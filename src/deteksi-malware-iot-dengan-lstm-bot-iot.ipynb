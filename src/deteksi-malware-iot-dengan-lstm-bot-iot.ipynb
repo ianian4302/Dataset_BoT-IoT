{
 "cells": [
  {
   "cell_type": "markdown",
   "id": "72b6c7cb",
   "metadata": {
    "papermill": {
     "duration": 0.004883,
     "end_time": "2025-04-12T09:14:51.748951",
     "exception": false,
     "start_time": "2025-04-12T09:14:51.744068",
     "status": "completed"
    },
    "tags": []
   },
   "source": [
    "<!-- LIBRARY -->"
   ]
  },
  {
   "cell_type": "markdown",
   "id": "2a55e944",
   "metadata": {
    "papermill": {
     "duration": 0.003566,
     "end_time": "2025-04-12T09:14:51.756512",
     "exception": false,
     "start_time": "2025-04-12T09:14:51.752946",
     "status": "completed"
    },
    "tags": []
   },
   "source": [
    "# LIBRARY"
   ]
  },
  {
   "cell_type": "code",
   "execution_count": 1,
   "id": "e8746933",
   "metadata": {
    "_cell_guid": "b1076dfc-b9ad-4769-8c92-a6c4dae69d19",
    "_uuid": "8f2839f25d086af736a60e9eeb907d3b93b6e0e5",
    "execution": {
     "iopub.execute_input": "2025-04-12T09:14:51.764630Z",
     "iopub.status.busy": "2025-04-12T09:14:51.764403Z",
     "iopub.status.idle": "2025-04-12T09:15:07.425132Z",
     "shell.execute_reply": "2025-04-12T09:15:07.424108Z"
    },
    "papermill": {
     "duration": 15.666635,
     "end_time": "2025-04-12T09:15:07.426756",
     "exception": false,
     "start_time": "2025-04-12T09:14:51.760121",
     "status": "completed"
    },
    "tags": []
   },
   "outputs": [
    {
     "name": "stderr",
     "output_type": "stream",
     "text": [
      "2025-04-12 09:14:56.247603: E external/local_xla/xla/stream_executor/cuda/cuda_fft.cc:477] Unable to register cuFFT factory: Attempting to register factory for plugin cuFFT when one has already been registered\n",
      "WARNING: All log messages before absl::InitializeLog() is called are written to STDERR\n",
      "E0000 00:00:1744449296.461907      19 cuda_dnn.cc:8310] Unable to register cuDNN factory: Attempting to register factory for plugin cuDNN when one has already been registered\n",
      "E0000 00:00:1744449296.525067      19 cuda_blas.cc:1418] Unable to register cuBLAS factory: Attempting to register factory for plugin cuBLAS when one has already been registered\n"
     ]
    }
   ],
   "source": [
    "import pandas as pd\n",
    "import numpy as np\n",
    "from sklearn.preprocessing import MinMaxScaler\n",
    "from sklearn.model_selection import train_test_split\n",
    "from tensorflow.keras.models import Sequential\n",
    "from tensorflow.keras.layers import LSTM, Dense, Dropout\n",
    "from tensorflow.keras.callbacks import EarlyStopping\n",
    "import matplotlib.pyplot as plt\n"
   ]
  },
  {
   "cell_type": "markdown",
   "id": "7aaa2886",
   "metadata": {
    "papermill": {
     "duration": 0.00381,
     "end_time": "2025-04-12T09:15:07.435240",
     "exception": false,
     "start_time": "2025-04-12T09:15:07.431430",
     "status": "completed"
    },
    "tags": []
   },
   "source": [
    "# SELEKSI DATA"
   ]
  },
  {
   "cell_type": "code",
   "execution_count": 2,
   "id": "4f126aba",
   "metadata": {
    "execution": {
     "iopub.execute_input": "2025-04-12T09:15:07.444337Z",
     "iopub.status.busy": "2025-04-12T09:15:07.443645Z",
     "iopub.status.idle": "2025-04-12T09:15:12.583696Z",
     "shell.execute_reply": "2025-04-12T09:15:12.582902Z"
    },
    "papermill": {
     "duration": 5.145609,
     "end_time": "2025-04-12T09:15:12.584849",
     "exception": false,
     "start_time": "2025-04-12T09:15:07.439240",
     "status": "completed"
    },
    "tags": []
   },
   "outputs": [
    {
     "name": "stderr",
     "output_type": "stream",
     "text": [
      "/tmp/ipykernel_19/1311780644.py:2: DtypeWarning: Columns (5,7) have mixed types. Specify dtype option on import or set low_memory=False.\n",
      "  df = pd.read_csv('/kaggle/input/bot-iot/data_1.csv')\n"
     ]
    },
    {
     "data": {
      "text/html": [
       "<div>\n",
       "<style scoped>\n",
       "    .dataframe tbody tr th:only-of-type {\n",
       "        vertical-align: middle;\n",
       "    }\n",
       "\n",
       "    .dataframe tbody tr th {\n",
       "        vertical-align: top;\n",
       "    }\n",
       "\n",
       "    .dataframe thead th {\n",
       "        text-align: right;\n",
       "    }\n",
       "</style>\n",
       "<table border=\"1\" class=\"dataframe\">\n",
       "  <thead>\n",
       "    <tr style=\"text-align: right;\">\n",
       "      <th></th>\n",
       "      <th>pkSeqID</th>\n",
       "      <th>stime</th>\n",
       "      <th>flgs</th>\n",
       "      <th>proto</th>\n",
       "      <th>saddr</th>\n",
       "      <th>sport</th>\n",
       "      <th>daddr</th>\n",
       "      <th>dport</th>\n",
       "      <th>pkts</th>\n",
       "      <th>bytes</th>\n",
       "      <th>...</th>\n",
       "      <th>spkts</th>\n",
       "      <th>dpkts</th>\n",
       "      <th>sbytes</th>\n",
       "      <th>dbytes</th>\n",
       "      <th>rate</th>\n",
       "      <th>srate</th>\n",
       "      <th>drate</th>\n",
       "      <th>attack</th>\n",
       "      <th>category</th>\n",
       "      <th>subcategory</th>\n",
       "    </tr>\n",
       "  </thead>\n",
       "  <tbody>\n",
       "    <tr>\n",
       "      <th>0</th>\n",
       "      <td>1</td>\n",
       "      <td>1.526344e+09</td>\n",
       "      <td>e</td>\n",
       "      <td>arp</td>\n",
       "      <td>192.168.100.1</td>\n",
       "      <td>NaN</td>\n",
       "      <td>192.168.100.3</td>\n",
       "      <td>NaN</td>\n",
       "      <td>4</td>\n",
       "      <td>240</td>\n",
       "      <td>...</td>\n",
       "      <td>2</td>\n",
       "      <td>2</td>\n",
       "      <td>120</td>\n",
       "      <td>120</td>\n",
       "      <td>0.002508</td>\n",
       "      <td>0.000836</td>\n",
       "      <td>0.000836</td>\n",
       "      <td>0</td>\n",
       "      <td>Normal</td>\n",
       "      <td>Normal</td>\n",
       "    </tr>\n",
       "    <tr>\n",
       "      <th>1</th>\n",
       "      <td>2</td>\n",
       "      <td>1.526344e+09</td>\n",
       "      <td>e</td>\n",
       "      <td>tcp</td>\n",
       "      <td>192.168.100.7</td>\n",
       "      <td>139</td>\n",
       "      <td>192.168.100.4</td>\n",
       "      <td>36390</td>\n",
       "      <td>10</td>\n",
       "      <td>680</td>\n",
       "      <td>...</td>\n",
       "      <td>5</td>\n",
       "      <td>5</td>\n",
       "      <td>350</td>\n",
       "      <td>330</td>\n",
       "      <td>0.006190</td>\n",
       "      <td>0.002751</td>\n",
       "      <td>0.002751</td>\n",
       "      <td>0</td>\n",
       "      <td>Normal</td>\n",
       "      <td>Normal</td>\n",
       "    </tr>\n",
       "    <tr>\n",
       "      <th>2</th>\n",
       "      <td>3</td>\n",
       "      <td>1.526344e+09</td>\n",
       "      <td>e</td>\n",
       "      <td>udp</td>\n",
       "      <td>192.168.100.149</td>\n",
       "      <td>51838</td>\n",
       "      <td>27.124.125.250</td>\n",
       "      <td>123</td>\n",
       "      <td>2</td>\n",
       "      <td>180</td>\n",
       "      <td>...</td>\n",
       "      <td>1</td>\n",
       "      <td>1</td>\n",
       "      <td>90</td>\n",
       "      <td>90</td>\n",
       "      <td>20.590960</td>\n",
       "      <td>0.000000</td>\n",
       "      <td>0.000000</td>\n",
       "      <td>0</td>\n",
       "      <td>Normal</td>\n",
       "      <td>Normal</td>\n",
       "    </tr>\n",
       "    <tr>\n",
       "      <th>3</th>\n",
       "      <td>4</td>\n",
       "      <td>1.526344e+09</td>\n",
       "      <td>e</td>\n",
       "      <td>arp</td>\n",
       "      <td>192.168.100.4</td>\n",
       "      <td>NaN</td>\n",
       "      <td>192.168.100.7</td>\n",
       "      <td>NaN</td>\n",
       "      <td>10</td>\n",
       "      <td>510</td>\n",
       "      <td>...</td>\n",
       "      <td>5</td>\n",
       "      <td>5</td>\n",
       "      <td>210</td>\n",
       "      <td>300</td>\n",
       "      <td>0.006189</td>\n",
       "      <td>0.002751</td>\n",
       "      <td>0.002751</td>\n",
       "      <td>0</td>\n",
       "      <td>Normal</td>\n",
       "      <td>Normal</td>\n",
       "    </tr>\n",
       "    <tr>\n",
       "      <th>4</th>\n",
       "      <td>5</td>\n",
       "      <td>1.526344e+09</td>\n",
       "      <td>e</td>\n",
       "      <td>udp</td>\n",
       "      <td>192.168.100.27</td>\n",
       "      <td>58999</td>\n",
       "      <td>192.168.100.1</td>\n",
       "      <td>53</td>\n",
       "      <td>4</td>\n",
       "      <td>630</td>\n",
       "      <td>...</td>\n",
       "      <td>2</td>\n",
       "      <td>2</td>\n",
       "      <td>174</td>\n",
       "      <td>456</td>\n",
       "      <td>0.005264</td>\n",
       "      <td>0.001755</td>\n",
       "      <td>0.001755</td>\n",
       "      <td>0</td>\n",
       "      <td>Normal</td>\n",
       "      <td>Normal</td>\n",
       "    </tr>\n",
       "  </tbody>\n",
       "</table>\n",
       "<p>5 rows × 35 columns</p>\n",
       "</div>"
      ],
      "text/plain": [
       "   pkSeqID         stime flgs proto            saddr  sport           daddr  \\\n",
       "0        1  1.526344e+09    e   arp    192.168.100.1    NaN   192.168.100.3   \n",
       "1        2  1.526344e+09    e   tcp    192.168.100.7    139   192.168.100.4   \n",
       "2        3  1.526344e+09    e   udp  192.168.100.149  51838  27.124.125.250   \n",
       "3        4  1.526344e+09    e   arp    192.168.100.4    NaN   192.168.100.7   \n",
       "4        5  1.526344e+09    e   udp   192.168.100.27  58999   192.168.100.1   \n",
       "\n",
       "   dport  pkts  bytes  ... spkts  dpkts  sbytes  dbytes       rate     srate  \\\n",
       "0    NaN     4    240  ...     2      2     120     120   0.002508  0.000836   \n",
       "1  36390    10    680  ...     5      5     350     330   0.006190  0.002751   \n",
       "2    123     2    180  ...     1      1      90      90  20.590960  0.000000   \n",
       "3    NaN    10    510  ...     5      5     210     300   0.006189  0.002751   \n",
       "4     53     4    630  ...     2      2     174     456   0.005264  0.001755   \n",
       "\n",
       "      drate  attack  category  subcategory  \n",
       "0  0.000836       0    Normal       Normal  \n",
       "1  0.002751       0    Normal       Normal  \n",
       "2  0.000000       0    Normal       Normal  \n",
       "3  0.002751       0    Normal       Normal  \n",
       "4  0.001755       0    Normal       Normal  \n",
       "\n",
       "[5 rows x 35 columns]"
      ]
     },
     "execution_count": 2,
     "metadata": {},
     "output_type": "execute_result"
    }
   ],
   "source": [
    "# Baca data CSV langsung dari path Kaggle\n",
    "df = pd.read_csv('/kaggle/input/bot-iot/data_1.csv')\n",
    "\n",
    "# Jika datanya sudah terpisah kolom (tidak perlu split manual):\n",
    "df.columns = df.columns.str.strip()  # Hilangkan spasi yang tidak diinginkan\n",
    "df.head()\n"
   ]
  },
  {
   "cell_type": "code",
   "execution_count": 3,
   "id": "f85f274b",
   "metadata": {
    "execution": {
     "iopub.execute_input": "2025-04-12T09:15:12.594985Z",
     "iopub.status.busy": "2025-04-12T09:15:12.594738Z",
     "iopub.status.idle": "2025-04-12T09:15:12.666632Z",
     "shell.execute_reply": "2025-04-12T09:15:12.665852Z"
    },
    "papermill": {
     "duration": 0.078276,
     "end_time": "2025-04-12T09:15:12.667672",
     "exception": false,
     "start_time": "2025-04-12T09:15:12.589396",
     "status": "completed"
    },
    "tags": []
   },
   "outputs": [
    {
     "name": "stdout",
     "output_type": "stream",
     "text": [
      "\n",
      "Distribusi Kategori:\n",
      "Reconnaissance  : 998,007 data (≈ 99.80%)\n",
      "Normal          :  1,993 data (≈ 0.20%)\n"
     ]
    }
   ],
   "source": [
    "# Tampilkan jumlah data untuk setiap kategori di kolom 'category'\n",
    "if 'category' in df.columns:\n",
    "    category_counts = df['category'].value_counts()\n",
    "    total = category_counts.sum()\n",
    "    print(\"\\nDistribusi Kategori:\")\n",
    "    for label, count in category_counts.items():\n",
    "        percentage = (count / total) * 100\n",
    "        print(f\"{label:<16}: {count:>6,} data (≈ {percentage:.2f}%)\")\n",
    "else:\n",
    "    print(\"Kolom 'category' tidak ditemukan dalam dataset.\")"
   ]
  },
  {
   "cell_type": "code",
   "execution_count": 4,
   "id": "82aad965",
   "metadata": {
    "execution": {
     "iopub.execute_input": "2025-04-12T09:15:12.677117Z",
     "iopub.status.busy": "2025-04-12T09:15:12.676428Z",
     "iopub.status.idle": "2025-04-12T09:15:13.049405Z",
     "shell.execute_reply": "2025-04-12T09:15:13.048633Z"
    },
    "papermill": {
     "duration": 0.378988,
     "end_time": "2025-04-12T09:15:13.050724",
     "exception": false,
     "start_time": "2025-04-12T09:15:12.671736",
     "status": "completed"
    },
    "tags": []
   },
   "outputs": [
    {
     "name": "stdout",
     "output_type": "stream",
     "text": [
      "Distribusi setelah balancing:\n",
      "category\n",
      "Reconnaissance    2000\n",
      "Normal            1993\n",
      "Name: count, dtype: int64\n"
     ]
    }
   ],
   "source": [
    "# Ambil seluruh data Normal\n",
    "df_normal = df[df['category'] == 'Normal']\n",
    "\n",
    "# Ambil 2000 data Reconnaissance secara acak\n",
    "df_recon = df[df['category'] == 'Reconnaissance'].sample(n=2000, random_state=42)\n",
    "\n",
    "# Gabungkan keduanya\n",
    "df_balanced = pd.concat([df_normal, df_recon]).sample(frac=1, random_state=42).reset_index(drop=True)\n",
    "\n",
    "# Tampilkan hasil akhir\n",
    "print(\"Distribusi setelah balancing:\")\n",
    "print(df_balanced['category'].value_counts())\n"
   ]
  },
  {
   "cell_type": "markdown",
   "id": "9a481519",
   "metadata": {
    "papermill": {
     "duration": 0.004385,
     "end_time": "2025-04-12T09:15:13.059770",
     "exception": false,
     "start_time": "2025-04-12T09:15:13.055385",
     "status": "completed"
    },
    "tags": []
   },
   "source": [
    "# DATA PREPROCESSING"
   ]
  },
  {
   "cell_type": "code",
   "execution_count": 5,
   "id": "d5d815b4",
   "metadata": {
    "execution": {
     "iopub.execute_input": "2025-04-12T09:15:13.069698Z",
     "iopub.status.busy": "2025-04-12T09:15:13.069459Z",
     "iopub.status.idle": "2025-04-12T09:15:13.084395Z",
     "shell.execute_reply": "2025-04-12T09:15:13.083604Z"
    },
    "papermill": {
     "duration": 0.021261,
     "end_time": "2025-04-12T09:15:13.085494",
     "exception": false,
     "start_time": "2025-04-12T09:15:13.064233",
     "status": "completed"
    },
    "tags": []
   },
   "outputs": [
    {
     "name": "stdout",
     "output_type": "stream",
     "text": [
      "Dataset shape after cleaning: (3993, 26)\n",
      "\n",
      "Cek NaN lagi jika masih ada:\n",
      "pkts        0\n",
      "bytes       0\n",
      "dur         0\n",
      "rate        0\n",
      "srate       0\n",
      "drate       0\n",
      "spkts       0\n",
      "dpkts       0\n",
      "sbytes      0\n",
      "dbytes      0\n",
      "category    0\n",
      "dtype: int64\n"
     ]
    }
   ],
   "source": [
    "# Hapus kolom yang tidak digunakan dan mengandung banyak NaN\n",
    "df_balanced = df_balanced.drop(columns=[\n",
    "    'subcategory', 'sport', 'dport', 'smac', 'dmac', 'soui', 'doui', 'sco', 'dco'\n",
    "], errors='ignore')\n",
    "\n",
    "# Daftar fitur numerik untuk model\n",
    "numeric_columns = ['pkts', 'bytes', 'dur', 'rate', 'srate', 'drate', 'spkts', 'dpkts', 'sbytes', 'dbytes']\n",
    "\n",
    "# Bersihkan nilai kosong\n",
    "df_balanced.replace('', np.nan, inplace=True)\n",
    "\n",
    "# Ubah ke numerik (coerce akan menjadikan string/error jadi NaN)\n",
    "for col in numeric_columns:\n",
    "    df_balanced[col] = pd.to_numeric(df_balanced[col], errors='coerce')\n",
    "\n",
    "# Buang baris yang tidak memiliki data valid di kolom numerik atau label\n",
    "df_balanced.dropna(subset=numeric_columns + ['category'], inplace=True)\n",
    "\n",
    "# Tampilkan info jumlah data setelah bersih\n",
    "print(\"Dataset shape after cleaning:\", df_balanced.shape)\n",
    "print(\"\\nCek NaN lagi jika masih ada:\")\n",
    "print(df_balanced[numeric_columns + ['category']].isnull().sum())\n"
   ]
  },
  {
   "cell_type": "code",
   "execution_count": 6,
   "id": "32d1e52e",
   "metadata": {
    "execution": {
     "iopub.execute_input": "2025-04-12T09:15:13.094676Z",
     "iopub.status.busy": "2025-04-12T09:15:13.094213Z",
     "iopub.status.idle": "2025-04-12T09:15:13.111684Z",
     "shell.execute_reply": "2025-04-12T09:15:13.111102Z"
    },
    "papermill": {
     "duration": 0.023042,
     "end_time": "2025-04-12T09:15:13.112691",
     "exception": false,
     "start_time": "2025-04-12T09:15:13.089649",
     "status": "completed"
    },
    "tags": []
   },
   "outputs": [
    {
     "data": {
      "text/html": [
       "<div>\n",
       "<style scoped>\n",
       "    .dataframe tbody tr th:only-of-type {\n",
       "        vertical-align: middle;\n",
       "    }\n",
       "\n",
       "    .dataframe tbody tr th {\n",
       "        vertical-align: top;\n",
       "    }\n",
       "\n",
       "    .dataframe thead th {\n",
       "        text-align: right;\n",
       "    }\n",
       "</style>\n",
       "<table border=\"1\" class=\"dataframe\">\n",
       "  <thead>\n",
       "    <tr style=\"text-align: right;\">\n",
       "      <th></th>\n",
       "      <th>pkSeqID</th>\n",
       "      <th>stime</th>\n",
       "      <th>flgs</th>\n",
       "      <th>proto</th>\n",
       "      <th>saddr</th>\n",
       "      <th>daddr</th>\n",
       "      <th>pkts</th>\n",
       "      <th>bytes</th>\n",
       "      <th>state</th>\n",
       "      <th>ltime</th>\n",
       "      <th>...</th>\n",
       "      <th>max</th>\n",
       "      <th>spkts</th>\n",
       "      <th>dpkts</th>\n",
       "      <th>sbytes</th>\n",
       "      <th>dbytes</th>\n",
       "      <th>rate</th>\n",
       "      <th>srate</th>\n",
       "      <th>drate</th>\n",
       "      <th>attack</th>\n",
       "      <th>category</th>\n",
       "    </tr>\n",
       "  </thead>\n",
       "  <tbody>\n",
       "    <tr>\n",
       "      <th>0</th>\n",
       "      <td>670054</td>\n",
       "      <td>1.526899e+09</td>\n",
       "      <td>e</td>\n",
       "      <td>tcp</td>\n",
       "      <td>192.168.100.149</td>\n",
       "      <td>192.168.100.3</td>\n",
       "      <td>2</td>\n",
       "      <td>120</td>\n",
       "      <td>RST</td>\n",
       "      <td>1.526899e+09</td>\n",
       "      <td>...</td>\n",
       "      <td>0.050273</td>\n",
       "      <td>1</td>\n",
       "      <td>1</td>\n",
       "      <td>60</td>\n",
       "      <td>60</td>\n",
       "      <td>19.891392</td>\n",
       "      <td>0.000000</td>\n",
       "      <td>0.0</td>\n",
       "      <td>1</td>\n",
       "      <td>Reconnaissance</td>\n",
       "    </tr>\n",
       "    <tr>\n",
       "      <th>1</th>\n",
       "      <td>137995</td>\n",
       "      <td>1.526356e+09</td>\n",
       "      <td>e</td>\n",
       "      <td>udp</td>\n",
       "      <td>192.168.100.7</td>\n",
       "      <td>192.168.159.152</td>\n",
       "      <td>2</td>\n",
       "      <td>176</td>\n",
       "      <td>INT</td>\n",
       "      <td>1.526356e+09</td>\n",
       "      <td>...</td>\n",
       "      <td>0.000000</td>\n",
       "      <td>2</td>\n",
       "      <td>0</td>\n",
       "      <td>176</td>\n",
       "      <td>0</td>\n",
       "      <td>0.198087</td>\n",
       "      <td>0.198087</td>\n",
       "      <td>0.0</td>\n",
       "      <td>0</td>\n",
       "      <td>Normal</td>\n",
       "    </tr>\n",
       "    <tr>\n",
       "      <th>2</th>\n",
       "      <td>785313</td>\n",
       "      <td>1.526902e+09</td>\n",
       "      <td>e</td>\n",
       "      <td>arp</td>\n",
       "      <td>192.168.100.1</td>\n",
       "      <td>192.168.100.3</td>\n",
       "      <td>2</td>\n",
       "      <td>120</td>\n",
       "      <td>CON</td>\n",
       "      <td>1.526902e+09</td>\n",
       "      <td>...</td>\n",
       "      <td>0.000010</td>\n",
       "      <td>1</td>\n",
       "      <td>1</td>\n",
       "      <td>60</td>\n",
       "      <td>60</td>\n",
       "      <td>100000.000000</td>\n",
       "      <td>0.000000</td>\n",
       "      <td>0.0</td>\n",
       "      <td>0</td>\n",
       "      <td>Normal</td>\n",
       "    </tr>\n",
       "    <tr>\n",
       "      <th>3</th>\n",
       "      <td>118075</td>\n",
       "      <td>1.526354e+09</td>\n",
       "      <td>e</td>\n",
       "      <td>udp</td>\n",
       "      <td>192.168.100.7</td>\n",
       "      <td>192.168.159.152</td>\n",
       "      <td>2</td>\n",
       "      <td>176</td>\n",
       "      <td>INT</td>\n",
       "      <td>1.526354e+09</td>\n",
       "      <td>...</td>\n",
       "      <td>0.000000</td>\n",
       "      <td>2</td>\n",
       "      <td>0</td>\n",
       "      <td>176</td>\n",
       "      <td>0</td>\n",
       "      <td>0.198207</td>\n",
       "      <td>0.198207</td>\n",
       "      <td>0.0</td>\n",
       "      <td>0</td>\n",
       "      <td>Normal</td>\n",
       "    </tr>\n",
       "    <tr>\n",
       "      <th>4</th>\n",
       "      <td>727108</td>\n",
       "      <td>1.526899e+09</td>\n",
       "      <td>e</td>\n",
       "      <td>tcp</td>\n",
       "      <td>192.168.100.149</td>\n",
       "      <td>192.168.100.3</td>\n",
       "      <td>2</td>\n",
       "      <td>120</td>\n",
       "      <td>RST</td>\n",
       "      <td>1.526899e+09</td>\n",
       "      <td>...</td>\n",
       "      <td>0.067661</td>\n",
       "      <td>1</td>\n",
       "      <td>1</td>\n",
       "      <td>60</td>\n",
       "      <td>60</td>\n",
       "      <td>14.779562</td>\n",
       "      <td>0.000000</td>\n",
       "      <td>0.0</td>\n",
       "      <td>1</td>\n",
       "      <td>Reconnaissance</td>\n",
       "    </tr>\n",
       "    <tr>\n",
       "      <th>...</th>\n",
       "      <td>...</td>\n",
       "      <td>...</td>\n",
       "      <td>...</td>\n",
       "      <td>...</td>\n",
       "      <td>...</td>\n",
       "      <td>...</td>\n",
       "      <td>...</td>\n",
       "      <td>...</td>\n",
       "      <td>...</td>\n",
       "      <td>...</td>\n",
       "      <td>...</td>\n",
       "      <td>...</td>\n",
       "      <td>...</td>\n",
       "      <td>...</td>\n",
       "      <td>...</td>\n",
       "      <td>...</td>\n",
       "      <td>...</td>\n",
       "      <td>...</td>\n",
       "      <td>...</td>\n",
       "      <td>...</td>\n",
       "      <td>...</td>\n",
       "    </tr>\n",
       "    <tr>\n",
       "      <th>3988</th>\n",
       "      <td>138168</td>\n",
       "      <td>1.526356e+09</td>\n",
       "      <td>e</td>\n",
       "      <td>udp</td>\n",
       "      <td>192.168.100.3</td>\n",
       "      <td>192.33.4.12</td>\n",
       "      <td>2</td>\n",
       "      <td>1290</td>\n",
       "      <td>CON</td>\n",
       "      <td>1.526356e+09</td>\n",
       "      <td>...</td>\n",
       "      <td>0.176191</td>\n",
       "      <td>1</td>\n",
       "      <td>1</td>\n",
       "      <td>81</td>\n",
       "      <td>1209</td>\n",
       "      <td>5.675659</td>\n",
       "      <td>0.000000</td>\n",
       "      <td>0.0</td>\n",
       "      <td>0</td>\n",
       "      <td>Normal</td>\n",
       "    </tr>\n",
       "    <tr>\n",
       "      <th>3989</th>\n",
       "      <td>440024</td>\n",
       "      <td>1.526882e+09</td>\n",
       "      <td>e</td>\n",
       "      <td>arp</td>\n",
       "      <td>192.168.100.150</td>\n",
       "      <td>192.168.100.1</td>\n",
       "      <td>2</td>\n",
       "      <td>120</td>\n",
       "      <td>CON</td>\n",
       "      <td>1.526882e+09</td>\n",
       "      <td>...</td>\n",
       "      <td>0.000143</td>\n",
       "      <td>1</td>\n",
       "      <td>1</td>\n",
       "      <td>60</td>\n",
       "      <td>60</td>\n",
       "      <td>6993.007324</td>\n",
       "      <td>0.000000</td>\n",
       "      <td>0.0</td>\n",
       "      <td>0</td>\n",
       "      <td>Normal</td>\n",
       "    </tr>\n",
       "    <tr>\n",
       "      <th>3990</th>\n",
       "      <td>120481</td>\n",
       "      <td>1.526355e+09</td>\n",
       "      <td>eU</td>\n",
       "      <td>udp</td>\n",
       "      <td>192.168.100.3</td>\n",
       "      <td>205.251.195.162</td>\n",
       "      <td>2</td>\n",
       "      <td>419</td>\n",
       "      <td>CON</td>\n",
       "      <td>1.526355e+09</td>\n",
       "      <td>...</td>\n",
       "      <td>0.288045</td>\n",
       "      <td>1</td>\n",
       "      <td>1</td>\n",
       "      <td>118</td>\n",
       "      <td>301</td>\n",
       "      <td>3.471680</td>\n",
       "      <td>0.000000</td>\n",
       "      <td>0.0</td>\n",
       "      <td>0</td>\n",
       "      <td>Normal</td>\n",
       "    </tr>\n",
       "    <tr>\n",
       "      <th>3991</th>\n",
       "      <td>418580</td>\n",
       "      <td>1.526881e+09</td>\n",
       "      <td>e</td>\n",
       "      <td>tcp</td>\n",
       "      <td>192.168.100.149</td>\n",
       "      <td>192.168.100.3</td>\n",
       "      <td>2</td>\n",
       "      <td>120</td>\n",
       "      <td>RST</td>\n",
       "      <td>1.526881e+09</td>\n",
       "      <td>...</td>\n",
       "      <td>0.009184</td>\n",
       "      <td>1</td>\n",
       "      <td>1</td>\n",
       "      <td>60</td>\n",
       "      <td>60</td>\n",
       "      <td>108.885017</td>\n",
       "      <td>0.000000</td>\n",
       "      <td>0.0</td>\n",
       "      <td>1</td>\n",
       "      <td>Reconnaissance</td>\n",
       "    </tr>\n",
       "    <tr>\n",
       "      <th>3992</th>\n",
       "      <td>42786</td>\n",
       "      <td>1.526349e+09</td>\n",
       "      <td>e</td>\n",
       "      <td>icmp</td>\n",
       "      <td>192.168.100.5</td>\n",
       "      <td>192.168.100.147</td>\n",
       "      <td>2</td>\n",
       "      <td>140</td>\n",
       "      <td>URP</td>\n",
       "      <td>1.526350e+09</td>\n",
       "      <td>...</td>\n",
       "      <td>0.000000</td>\n",
       "      <td>2</td>\n",
       "      <td>0</td>\n",
       "      <td>140</td>\n",
       "      <td>0</td>\n",
       "      <td>0.000786</td>\n",
       "      <td>0.000786</td>\n",
       "      <td>0.0</td>\n",
       "      <td>1</td>\n",
       "      <td>Reconnaissance</td>\n",
       "    </tr>\n",
       "  </tbody>\n",
       "</table>\n",
       "<p>3993 rows × 26 columns</p>\n",
       "</div>"
      ],
      "text/plain": [
       "      pkSeqID         stime flgs proto            saddr            daddr  \\\n",
       "0      670054  1.526899e+09    e   tcp  192.168.100.149    192.168.100.3   \n",
       "1      137995  1.526356e+09    e   udp    192.168.100.7  192.168.159.152   \n",
       "2      785313  1.526902e+09    e   arp    192.168.100.1    192.168.100.3   \n",
       "3      118075  1.526354e+09    e   udp    192.168.100.7  192.168.159.152   \n",
       "4      727108  1.526899e+09    e   tcp  192.168.100.149    192.168.100.3   \n",
       "...       ...           ...  ...   ...              ...              ...   \n",
       "3988   138168  1.526356e+09    e   udp    192.168.100.3      192.33.4.12   \n",
       "3989   440024  1.526882e+09    e   arp  192.168.100.150    192.168.100.1   \n",
       "3990   120481  1.526355e+09   eU   udp    192.168.100.3  205.251.195.162   \n",
       "3991   418580  1.526881e+09    e   tcp  192.168.100.149    192.168.100.3   \n",
       "3992    42786  1.526349e+09    e  icmp    192.168.100.5  192.168.100.147   \n",
       "\n",
       "      pkts  bytes state         ltime  ...       max  spkts  dpkts  sbytes  \\\n",
       "0        2    120   RST  1.526899e+09  ...  0.050273      1      1      60   \n",
       "1        2    176   INT  1.526356e+09  ...  0.000000      2      0     176   \n",
       "2        2    120   CON  1.526902e+09  ...  0.000010      1      1      60   \n",
       "3        2    176   INT  1.526354e+09  ...  0.000000      2      0     176   \n",
       "4        2    120   RST  1.526899e+09  ...  0.067661      1      1      60   \n",
       "...    ...    ...   ...           ...  ...       ...    ...    ...     ...   \n",
       "3988     2   1290   CON  1.526356e+09  ...  0.176191      1      1      81   \n",
       "3989     2    120   CON  1.526882e+09  ...  0.000143      1      1      60   \n",
       "3990     2    419   CON  1.526355e+09  ...  0.288045      1      1     118   \n",
       "3991     2    120   RST  1.526881e+09  ...  0.009184      1      1      60   \n",
       "3992     2    140   URP  1.526350e+09  ...  0.000000      2      0     140   \n",
       "\n",
       "      dbytes           rate     srate  drate  attack        category  \n",
       "0         60      19.891392  0.000000    0.0       1  Reconnaissance  \n",
       "1          0       0.198087  0.198087    0.0       0          Normal  \n",
       "2         60  100000.000000  0.000000    0.0       0          Normal  \n",
       "3          0       0.198207  0.198207    0.0       0          Normal  \n",
       "4         60      14.779562  0.000000    0.0       1  Reconnaissance  \n",
       "...      ...            ...       ...    ...     ...             ...  \n",
       "3988    1209       5.675659  0.000000    0.0       0          Normal  \n",
       "3989      60    6993.007324  0.000000    0.0       0          Normal  \n",
       "3990     301       3.471680  0.000000    0.0       0          Normal  \n",
       "3991      60     108.885017  0.000000    0.0       1  Reconnaissance  \n",
       "3992       0       0.000786  0.000786    0.0       1  Reconnaissance  \n",
       "\n",
       "[3993 rows x 26 columns]"
      ]
     },
     "execution_count": 6,
     "metadata": {},
     "output_type": "execute_result"
    }
   ],
   "source": [
    "df_balanced"
   ]
  },
  {
   "cell_type": "code",
   "execution_count": 7,
   "id": "048f2911",
   "metadata": {
    "execution": {
     "iopub.execute_input": "2025-04-12T09:15:13.122823Z",
     "iopub.status.busy": "2025-04-12T09:15:13.122428Z",
     "iopub.status.idle": "2025-04-12T09:15:13.127892Z",
     "shell.execute_reply": "2025-04-12T09:15:13.127212Z"
    },
    "papermill": {
     "duration": 0.011708,
     "end_time": "2025-04-12T09:15:13.128880",
     "exception": false,
     "start_time": "2025-04-12T09:15:13.117172",
     "status": "completed"
    },
    "tags": []
   },
   "outputs": [
    {
     "name": "stdout",
     "output_type": "stream",
     "text": [
      "{'Normal': 0, 'Reconnaissance': 1}\n"
     ]
    }
   ],
   "source": [
    "from sklearn.preprocessing import LabelEncoder\n",
    "\n",
    "# Encode 'category' ke bentuk numerik\n",
    "le = LabelEncoder()\n",
    "df_balanced['label'] = le.fit_transform(df_balanced['category'])\n",
    "\n",
    "# Cek hasil encoding\n",
    "print(dict(zip(le.classes_, le.transform(le.classes_))))\n"
   ]
  },
  {
   "cell_type": "code",
   "execution_count": 8,
   "id": "1fb1fef5",
   "metadata": {
    "execution": {
     "iopub.execute_input": "2025-04-12T09:15:13.138657Z",
     "iopub.status.busy": "2025-04-12T09:15:13.138214Z",
     "iopub.status.idle": "2025-04-12T09:15:13.143054Z",
     "shell.execute_reply": "2025-04-12T09:15:13.142340Z"
    },
    "papermill": {
     "duration": 0.010747,
     "end_time": "2025-04-12T09:15:13.144145",
     "exception": false,
     "start_time": "2025-04-12T09:15:13.133398",
     "status": "completed"
    },
    "tags": []
   },
   "outputs": [],
   "source": [
    "from sklearn.model_selection import train_test_split\n",
    "from sklearn.preprocessing import MinMaxScaler\n",
    "\n",
    "# Fitur dan label\n",
    "X_raw = df_balanced[numeric_columns]\n",
    "y_raw = df_balanced['label']\n",
    "\n"
   ]
  },
  {
   "cell_type": "code",
   "execution_count": 9,
   "id": "7429b520",
   "metadata": {
    "execution": {
     "iopub.execute_input": "2025-04-12T09:15:13.153680Z",
     "iopub.status.busy": "2025-04-12T09:15:13.153484Z",
     "iopub.status.idle": "2025-04-12T09:15:13.164032Z",
     "shell.execute_reply": "2025-04-12T09:15:13.163316Z"
    },
    "papermill": {
     "duration": 0.016448,
     "end_time": "2025-04-12T09:15:13.165136",
     "exception": false,
     "start_time": "2025-04-12T09:15:13.148688",
     "status": "completed"
    },
    "tags": []
   },
   "outputs": [
    {
     "data": {
      "text/html": [
       "<div>\n",
       "<style scoped>\n",
       "    .dataframe tbody tr th:only-of-type {\n",
       "        vertical-align: middle;\n",
       "    }\n",
       "\n",
       "    .dataframe tbody tr th {\n",
       "        vertical-align: top;\n",
       "    }\n",
       "\n",
       "    .dataframe thead th {\n",
       "        text-align: right;\n",
       "    }\n",
       "</style>\n",
       "<table border=\"1\" class=\"dataframe\">\n",
       "  <thead>\n",
       "    <tr style=\"text-align: right;\">\n",
       "      <th></th>\n",
       "      <th>pkts</th>\n",
       "      <th>bytes</th>\n",
       "      <th>dur</th>\n",
       "      <th>rate</th>\n",
       "      <th>srate</th>\n",
       "      <th>drate</th>\n",
       "      <th>spkts</th>\n",
       "      <th>dpkts</th>\n",
       "      <th>sbytes</th>\n",
       "      <th>dbytes</th>\n",
       "    </tr>\n",
       "  </thead>\n",
       "  <tbody>\n",
       "    <tr>\n",
       "      <th>0</th>\n",
       "      <td>2</td>\n",
       "      <td>120</td>\n",
       "      <td>0.050273</td>\n",
       "      <td>19.891392</td>\n",
       "      <td>0.000000</td>\n",
       "      <td>0.0</td>\n",
       "      <td>1</td>\n",
       "      <td>1</td>\n",
       "      <td>60</td>\n",
       "      <td>60</td>\n",
       "    </tr>\n",
       "    <tr>\n",
       "      <th>1</th>\n",
       "      <td>2</td>\n",
       "      <td>176</td>\n",
       "      <td>5.048292</td>\n",
       "      <td>0.198087</td>\n",
       "      <td>0.198087</td>\n",
       "      <td>0.0</td>\n",
       "      <td>2</td>\n",
       "      <td>0</td>\n",
       "      <td>176</td>\n",
       "      <td>0</td>\n",
       "    </tr>\n",
       "    <tr>\n",
       "      <th>2</th>\n",
       "      <td>2</td>\n",
       "      <td>120</td>\n",
       "      <td>0.000010</td>\n",
       "      <td>100000.000000</td>\n",
       "      <td>0.000000</td>\n",
       "      <td>0.0</td>\n",
       "      <td>1</td>\n",
       "      <td>1</td>\n",
       "      <td>60</td>\n",
       "      <td>60</td>\n",
       "    </tr>\n",
       "    <tr>\n",
       "      <th>3</th>\n",
       "      <td>2</td>\n",
       "      <td>176</td>\n",
       "      <td>5.045218</td>\n",
       "      <td>0.198207</td>\n",
       "      <td>0.198207</td>\n",
       "      <td>0.0</td>\n",
       "      <td>2</td>\n",
       "      <td>0</td>\n",
       "      <td>176</td>\n",
       "      <td>0</td>\n",
       "    </tr>\n",
       "    <tr>\n",
       "      <th>4</th>\n",
       "      <td>2</td>\n",
       "      <td>120</td>\n",
       "      <td>0.067661</td>\n",
       "      <td>14.779562</td>\n",
       "      <td>0.000000</td>\n",
       "      <td>0.0</td>\n",
       "      <td>1</td>\n",
       "      <td>1</td>\n",
       "      <td>60</td>\n",
       "      <td>60</td>\n",
       "    </tr>\n",
       "    <tr>\n",
       "      <th>...</th>\n",
       "      <td>...</td>\n",
       "      <td>...</td>\n",
       "      <td>...</td>\n",
       "      <td>...</td>\n",
       "      <td>...</td>\n",
       "      <td>...</td>\n",
       "      <td>...</td>\n",
       "      <td>...</td>\n",
       "      <td>...</td>\n",
       "      <td>...</td>\n",
       "    </tr>\n",
       "    <tr>\n",
       "      <th>3988</th>\n",
       "      <td>2</td>\n",
       "      <td>1290</td>\n",
       "      <td>0.176191</td>\n",
       "      <td>5.675659</td>\n",
       "      <td>0.000000</td>\n",
       "      <td>0.0</td>\n",
       "      <td>1</td>\n",
       "      <td>1</td>\n",
       "      <td>81</td>\n",
       "      <td>1209</td>\n",
       "    </tr>\n",
       "    <tr>\n",
       "      <th>3989</th>\n",
       "      <td>2</td>\n",
       "      <td>120</td>\n",
       "      <td>0.000143</td>\n",
       "      <td>6993.007324</td>\n",
       "      <td>0.000000</td>\n",
       "      <td>0.0</td>\n",
       "      <td>1</td>\n",
       "      <td>1</td>\n",
       "      <td>60</td>\n",
       "      <td>60</td>\n",
       "    </tr>\n",
       "    <tr>\n",
       "      <th>3990</th>\n",
       "      <td>2</td>\n",
       "      <td>419</td>\n",
       "      <td>0.288045</td>\n",
       "      <td>3.471680</td>\n",
       "      <td>0.000000</td>\n",
       "      <td>0.0</td>\n",
       "      <td>1</td>\n",
       "      <td>1</td>\n",
       "      <td>118</td>\n",
       "      <td>301</td>\n",
       "    </tr>\n",
       "    <tr>\n",
       "      <th>3991</th>\n",
       "      <td>2</td>\n",
       "      <td>120</td>\n",
       "      <td>0.009184</td>\n",
       "      <td>108.885017</td>\n",
       "      <td>0.000000</td>\n",
       "      <td>0.0</td>\n",
       "      <td>1</td>\n",
       "      <td>1</td>\n",
       "      <td>60</td>\n",
       "      <td>60</td>\n",
       "    </tr>\n",
       "    <tr>\n",
       "      <th>3992</th>\n",
       "      <td>2</td>\n",
       "      <td>140</td>\n",
       "      <td>1272.516357</td>\n",
       "      <td>0.000786</td>\n",
       "      <td>0.000786</td>\n",
       "      <td>0.0</td>\n",
       "      <td>2</td>\n",
       "      <td>0</td>\n",
       "      <td>140</td>\n",
       "      <td>0</td>\n",
       "    </tr>\n",
       "  </tbody>\n",
       "</table>\n",
       "<p>3993 rows × 10 columns</p>\n",
       "</div>"
      ],
      "text/plain": [
       "      pkts  bytes          dur           rate     srate  drate  spkts  dpkts  \\\n",
       "0        2    120     0.050273      19.891392  0.000000    0.0      1      1   \n",
       "1        2    176     5.048292       0.198087  0.198087    0.0      2      0   \n",
       "2        2    120     0.000010  100000.000000  0.000000    0.0      1      1   \n",
       "3        2    176     5.045218       0.198207  0.198207    0.0      2      0   \n",
       "4        2    120     0.067661      14.779562  0.000000    0.0      1      1   \n",
       "...    ...    ...          ...            ...       ...    ...    ...    ...   \n",
       "3988     2   1290     0.176191       5.675659  0.000000    0.0      1      1   \n",
       "3989     2    120     0.000143    6993.007324  0.000000    0.0      1      1   \n",
       "3990     2    419     0.288045       3.471680  0.000000    0.0      1      1   \n",
       "3991     2    120     0.009184     108.885017  0.000000    0.0      1      1   \n",
       "3992     2    140  1272.516357       0.000786  0.000786    0.0      2      0   \n",
       "\n",
       "      sbytes  dbytes  \n",
       "0         60      60  \n",
       "1        176       0  \n",
       "2         60      60  \n",
       "3        176       0  \n",
       "4         60      60  \n",
       "...      ...     ...  \n",
       "3988      81    1209  \n",
       "3989      60      60  \n",
       "3990     118     301  \n",
       "3991      60      60  \n",
       "3992     140       0  \n",
       "\n",
       "[3993 rows x 10 columns]"
      ]
     },
     "execution_count": 9,
     "metadata": {},
     "output_type": "execute_result"
    }
   ],
   "source": [
    "X_raw"
   ]
  },
  {
   "cell_type": "code",
   "execution_count": 10,
   "id": "6c80cf00",
   "metadata": {
    "execution": {
     "iopub.execute_input": "2025-04-12T09:15:13.175316Z",
     "iopub.status.busy": "2025-04-12T09:15:13.174789Z",
     "iopub.status.idle": "2025-04-12T09:15:13.179500Z",
     "shell.execute_reply": "2025-04-12T09:15:13.179008Z"
    },
    "papermill": {
     "duration": 0.010722,
     "end_time": "2025-04-12T09:15:13.180511",
     "exception": false,
     "start_time": "2025-04-12T09:15:13.169789",
     "status": "completed"
    },
    "tags": []
   },
   "outputs": [
    {
     "data": {
      "text/plain": [
       "0       1\n",
       "1       0\n",
       "2       0\n",
       "3       0\n",
       "4       1\n",
       "       ..\n",
       "3988    0\n",
       "3989    0\n",
       "3990    0\n",
       "3991    1\n",
       "3992    1\n",
       "Name: label, Length: 3993, dtype: int64"
      ]
     },
     "execution_count": 10,
     "metadata": {},
     "output_type": "execute_result"
    }
   ],
   "source": [
    "y_raw"
   ]
  },
  {
   "cell_type": "code",
   "execution_count": 11,
   "id": "c3d8d0e3",
   "metadata": {
    "execution": {
     "iopub.execute_input": "2025-04-12T09:15:13.190577Z",
     "iopub.status.busy": "2025-04-12T09:15:13.190377Z",
     "iopub.status.idle": "2025-04-12T09:15:13.201676Z",
     "shell.execute_reply": "2025-04-12T09:15:13.200948Z"
    },
    "papermill": {
     "duration": 0.017595,
     "end_time": "2025-04-12T09:15:13.202871",
     "exception": false,
     "start_time": "2025-04-12T09:15:13.185276",
     "status": "completed"
    },
    "tags": []
   },
   "outputs": [],
   "source": [
    "# Normalisasi fitur\n",
    "scaler = MinMaxScaler()\n",
    "X_scaled = scaler.fit_transform(X_raw)\n",
    "\n",
    "# Train-test split\n",
    "X_train_raw, X_test_raw, y_train_raw, y_test_raw = train_test_split(\n",
    "    X_scaled, y_raw, test_size=0.2, random_state=42, stratify=y_raw)\n"
   ]
  },
  {
   "cell_type": "code",
   "execution_count": 12,
   "id": "0e216cca",
   "metadata": {
    "execution": {
     "iopub.execute_input": "2025-04-12T09:15:13.213428Z",
     "iopub.status.busy": "2025-04-12T09:15:13.212945Z",
     "iopub.status.idle": "2025-04-12T09:15:13.217205Z",
     "shell.execute_reply": "2025-04-12T09:15:13.216730Z"
    },
    "papermill": {
     "duration": 0.01036,
     "end_time": "2025-04-12T09:15:13.218196",
     "exception": false,
     "start_time": "2025-04-12T09:15:13.207836",
     "status": "completed"
    },
    "tags": []
   },
   "outputs": [
    {
     "data": {
      "text/plain": [
       "array([[1.37553474e-05, 1.94529377e-06, 7.42315548e-05, ...,\n",
       "        2.75103164e-05, 5.82828160e-07, 3.76094889e-06],\n",
       "       [1.37553474e-05, 8.16207176e-07, 7.36271833e-07, ...,\n",
       "        2.75103164e-05, 4.76859404e-07, 1.62343118e-06],\n",
       "       [1.37553474e-05, 8.16207176e-07, 3.05679043e-05, ...,\n",
       "        2.75103164e-05, 4.76859404e-07, 1.62343118e-06],\n",
       "       ...,\n",
       "       [3.95562525e-01, 3.89118174e-01, 3.53957123e-01, ...,\n",
       "        3.95570839e-01, 3.75868715e-01, 3.90069358e-01],\n",
       "       [0.00000000e+00, 0.00000000e+00, 0.00000000e+00, ...,\n",
       "        0.00000000e+00, 4.76859404e-07, 0.00000000e+00],\n",
       "       [0.00000000e+00, 3.12879417e-07, 0.00000000e+00, ...,\n",
       "        0.00000000e+00, 1.08617975e-06, 0.00000000e+00]])"
      ]
     },
     "execution_count": 12,
     "metadata": {},
     "output_type": "execute_result"
    }
   ],
   "source": [
    "X_train_raw"
   ]
  },
  {
   "cell_type": "code",
   "execution_count": 13,
   "id": "53383b46",
   "metadata": {
    "execution": {
     "iopub.execute_input": "2025-04-12T09:15:13.228961Z",
     "iopub.status.busy": "2025-04-12T09:15:13.228454Z",
     "iopub.status.idle": "2025-04-12T09:15:13.232825Z",
     "shell.execute_reply": "2025-04-12T09:15:13.232357Z"
    },
    "papermill": {
     "duration": 0.010767,
     "end_time": "2025-04-12T09:15:13.233793",
     "exception": false,
     "start_time": "2025-04-12T09:15:13.223026",
     "status": "completed"
    },
    "tags": []
   },
   "outputs": [
    {
     "data": {
      "text/plain": [
       "2964    0\n",
       "228     1\n",
       "574     1\n",
       "3035    1\n",
       "1639    0\n",
       "       ..\n",
       "1807    1\n",
       "3152    1\n",
       "36      0\n",
       "3434    1\n",
       "187     0\n",
       "Name: label, Length: 3194, dtype: int64"
      ]
     },
     "execution_count": 13,
     "metadata": {},
     "output_type": "execute_result"
    }
   ],
   "source": [
    "y_train_raw"
   ]
  },
  {
   "cell_type": "code",
   "execution_count": 14,
   "id": "297dc7e7",
   "metadata": {
    "execution": {
     "iopub.execute_input": "2025-04-12T09:15:13.244707Z",
     "iopub.status.busy": "2025-04-12T09:15:13.244468Z",
     "iopub.status.idle": "2025-04-12T09:15:13.253696Z",
     "shell.execute_reply": "2025-04-12T09:15:13.253018Z"
    },
    "papermill": {
     "duration": 0.015867,
     "end_time": "2025-04-12T09:15:13.254711",
     "exception": false,
     "start_time": "2025-04-12T09:15:13.238844",
     "status": "completed"
    },
    "tags": []
   },
   "outputs": [],
   "source": [
    "import numpy as np\n",
    "\n",
    "def create_sequences(X, y, seq_length):\n",
    "    sequences, labels = [], []\n",
    "    for i in range(len(X) - seq_length):\n",
    "        sequences.append(X[i:i + seq_length])\n",
    "        labels.append(y[i + seq_length - 1])\n",
    "    return np.array(sequences), np.array(labels)\n",
    "\n",
    "SEQ_LENGTH = 10\n",
    "\n",
    "# Convert y to array for indexing\n",
    "y_train_raw = y_train_raw.to_numpy()\n",
    "y_test_raw = y_test_raw.to_numpy()\n",
    "\n",
    "X_train_seq, y_train_seq = create_sequences(X_train_raw, y_train_raw, SEQ_LENGTH)\n",
    "X_test_seq, y_test_seq = create_sequences(X_test_raw, y_test_raw, SEQ_LENGTH)\n"
   ]
  },
  {
   "cell_type": "markdown",
   "id": "9b956935",
   "metadata": {
    "papermill": {
     "duration": 0.004652,
     "end_time": "2025-04-12T09:15:13.264392",
     "exception": false,
     "start_time": "2025-04-12T09:15:13.259740",
     "status": "completed"
    },
    "tags": []
   },
   "source": [
    "# MODELLING"
   ]
  },
  {
   "cell_type": "code",
   "execution_count": 15,
   "id": "822e5dc4",
   "metadata": {
    "execution": {
     "iopub.execute_input": "2025-04-12T09:15:13.274877Z",
     "iopub.status.busy": "2025-04-12T09:15:13.274662Z",
     "iopub.status.idle": "2025-04-12T09:15:45.161631Z",
     "shell.execute_reply": "2025-04-12T09:15:45.161063Z"
    },
    "papermill": {
     "duration": 31.893548,
     "end_time": "2025-04-12T09:15:45.162771",
     "exception": false,
     "start_time": "2025-04-12T09:15:13.269223",
     "status": "completed"
    },
    "tags": []
   },
   "outputs": [
    {
     "name": "stderr",
     "output_type": "stream",
     "text": [
      "I0000 00:00:1744449314.544764      19 gpu_device.cc:2022] Created device /job:localhost/replica:0/task:0/device:GPU:0 with 13942 MB memory:  -> device: 0, name: Tesla T4, pci bus id: 0000:00:04.0, compute capability: 7.5\n",
      "I0000 00:00:1744449314.545477      19 gpu_device.cc:2022] Created device /job:localhost/replica:0/task:0/device:GPU:1 with 13942 MB memory:  -> device: 1, name: Tesla T4, pci bus id: 0000:00:05.0, compute capability: 7.5\n"
     ]
    },
    {
     "name": "stdout",
     "output_type": "stream",
     "text": [
      "\n",
      "Model Architecture Summary:\n"
     ]
    },
    {
     "data": {
      "text/html": [
       "<pre style=\"white-space:pre;overflow-x:auto;line-height:normal;font-family:Menlo,'DejaVu Sans Mono',consolas,'Courier New',monospace\"><span style=\"font-weight: bold\">Model: \"sequential\"</span>\n",
       "</pre>\n"
      ],
      "text/plain": [
       "\u001b[1mModel: \"sequential\"\u001b[0m\n"
      ]
     },
     "metadata": {},
     "output_type": "display_data"
    },
    {
     "data": {
      "text/html": [
       "<pre style=\"white-space:pre;overflow-x:auto;line-height:normal;font-family:Menlo,'DejaVu Sans Mono',consolas,'Courier New',monospace\">┏━━━━━━━━━━━━━━━━━━━━━━━━━━━━━━━━━━━━━━┳━━━━━━━━━━━━━━━━━━━━━━━━━━━━━┳━━━━━━━━━━━━━━━━━┓\n",
       "┃<span style=\"font-weight: bold\"> Layer (type)                         </span>┃<span style=\"font-weight: bold\"> Output Shape                </span>┃<span style=\"font-weight: bold\">         Param # </span>┃\n",
       "┡━━━━━━━━━━━━━━━━━━━━━━━━━━━━━━━━━━━━━━╇━━━━━━━━━━━━━━━━━━━━━━━━━━━━━╇━━━━━━━━━━━━━━━━━┩\n",
       "│ lstm (<span style=\"color: #0087ff; text-decoration-color: #0087ff\">LSTM</span>)                          │ (<span style=\"color: #00d7ff; text-decoration-color: #00d7ff\">None</span>, <span style=\"color: #00af00; text-decoration-color: #00af00\">10</span>, <span style=\"color: #00af00; text-decoration-color: #00af00\">64</span>)              │          <span style=\"color: #00af00; text-decoration-color: #00af00\">19,200</span> │\n",
       "├──────────────────────────────────────┼─────────────────────────────┼─────────────────┤\n",
       "│ dropout (<span style=\"color: #0087ff; text-decoration-color: #0087ff\">Dropout</span>)                    │ (<span style=\"color: #00d7ff; text-decoration-color: #00d7ff\">None</span>, <span style=\"color: #00af00; text-decoration-color: #00af00\">10</span>, <span style=\"color: #00af00; text-decoration-color: #00af00\">64</span>)              │               <span style=\"color: #00af00; text-decoration-color: #00af00\">0</span> │\n",
       "├──────────────────────────────────────┼─────────────────────────────┼─────────────────┤\n",
       "│ lstm_1 (<span style=\"color: #0087ff; text-decoration-color: #0087ff\">LSTM</span>)                        │ (<span style=\"color: #00d7ff; text-decoration-color: #00d7ff\">None</span>, <span style=\"color: #00af00; text-decoration-color: #00af00\">32</span>)                  │          <span style=\"color: #00af00; text-decoration-color: #00af00\">12,416</span> │\n",
       "├──────────────────────────────────────┼─────────────────────────────┼─────────────────┤\n",
       "│ dropout_1 (<span style=\"color: #0087ff; text-decoration-color: #0087ff\">Dropout</span>)                  │ (<span style=\"color: #00d7ff; text-decoration-color: #00d7ff\">None</span>, <span style=\"color: #00af00; text-decoration-color: #00af00\">32</span>)                  │               <span style=\"color: #00af00; text-decoration-color: #00af00\">0</span> │\n",
       "├──────────────────────────────────────┼─────────────────────────────┼─────────────────┤\n",
       "│ dense (<span style=\"color: #0087ff; text-decoration-color: #0087ff\">Dense</span>)                        │ (<span style=\"color: #00d7ff; text-decoration-color: #00d7ff\">None</span>, <span style=\"color: #00af00; text-decoration-color: #00af00\">1</span>)                   │              <span style=\"color: #00af00; text-decoration-color: #00af00\">33</span> │\n",
       "└──────────────────────────────────────┴─────────────────────────────┴─────────────────┘\n",
       "</pre>\n"
      ],
      "text/plain": [
       "┏━━━━━━━━━━━━━━━━━━━━━━━━━━━━━━━━━━━━━━┳━━━━━━━━━━━━━━━━━━━━━━━━━━━━━┳━━━━━━━━━━━━━━━━━┓\n",
       "┃\u001b[1m \u001b[0m\u001b[1mLayer (type)                        \u001b[0m\u001b[1m \u001b[0m┃\u001b[1m \u001b[0m\u001b[1mOutput Shape               \u001b[0m\u001b[1m \u001b[0m┃\u001b[1m \u001b[0m\u001b[1m        Param #\u001b[0m\u001b[1m \u001b[0m┃\n",
       "┡━━━━━━━━━━━━━━━━━━━━━━━━━━━━━━━━━━━━━━╇━━━━━━━━━━━━━━━━━━━━━━━━━━━━━╇━━━━━━━━━━━━━━━━━┩\n",
       "│ lstm (\u001b[38;5;33mLSTM\u001b[0m)                          │ (\u001b[38;5;45mNone\u001b[0m, \u001b[38;5;34m10\u001b[0m, \u001b[38;5;34m64\u001b[0m)              │          \u001b[38;5;34m19,200\u001b[0m │\n",
       "├──────────────────────────────────────┼─────────────────────────────┼─────────────────┤\n",
       "│ dropout (\u001b[38;5;33mDropout\u001b[0m)                    │ (\u001b[38;5;45mNone\u001b[0m, \u001b[38;5;34m10\u001b[0m, \u001b[38;5;34m64\u001b[0m)              │               \u001b[38;5;34m0\u001b[0m │\n",
       "├──────────────────────────────────────┼─────────────────────────────┼─────────────────┤\n",
       "│ lstm_1 (\u001b[38;5;33mLSTM\u001b[0m)                        │ (\u001b[38;5;45mNone\u001b[0m, \u001b[38;5;34m32\u001b[0m)                  │          \u001b[38;5;34m12,416\u001b[0m │\n",
       "├──────────────────────────────────────┼─────────────────────────────┼─────────────────┤\n",
       "│ dropout_1 (\u001b[38;5;33mDropout\u001b[0m)                  │ (\u001b[38;5;45mNone\u001b[0m, \u001b[38;5;34m32\u001b[0m)                  │               \u001b[38;5;34m0\u001b[0m │\n",
       "├──────────────────────────────────────┼─────────────────────────────┼─────────────────┤\n",
       "│ dense (\u001b[38;5;33mDense\u001b[0m)                        │ (\u001b[38;5;45mNone\u001b[0m, \u001b[38;5;34m1\u001b[0m)                   │              \u001b[38;5;34m33\u001b[0m │\n",
       "└──────────────────────────────────────┴─────────────────────────────┴─────────────────┘\n"
      ]
     },
     "metadata": {},
     "output_type": "display_data"
    },
    {
     "data": {
      "text/html": [
       "<pre style=\"white-space:pre;overflow-x:auto;line-height:normal;font-family:Menlo,'DejaVu Sans Mono',consolas,'Courier New',monospace\"><span style=\"font-weight: bold\"> Total params: </span><span style=\"color: #00af00; text-decoration-color: #00af00\">31,649</span> (123.63 KB)\n",
       "</pre>\n"
      ],
      "text/plain": [
       "\u001b[1m Total params: \u001b[0m\u001b[38;5;34m31,649\u001b[0m (123.63 KB)\n"
      ]
     },
     "metadata": {},
     "output_type": "display_data"
    },
    {
     "data": {
      "text/html": [
       "<pre style=\"white-space:pre;overflow-x:auto;line-height:normal;font-family:Menlo,'DejaVu Sans Mono',consolas,'Courier New',monospace\"><span style=\"font-weight: bold\"> Trainable params: </span><span style=\"color: #00af00; text-decoration-color: #00af00\">31,649</span> (123.63 KB)\n",
       "</pre>\n"
      ],
      "text/plain": [
       "\u001b[1m Trainable params: \u001b[0m\u001b[38;5;34m31,649\u001b[0m (123.63 KB)\n"
      ]
     },
     "metadata": {},
     "output_type": "display_data"
    },
    {
     "data": {
      "text/html": [
       "<pre style=\"white-space:pre;overflow-x:auto;line-height:normal;font-family:Menlo,'DejaVu Sans Mono',consolas,'Courier New',monospace\"><span style=\"font-weight: bold\"> Non-trainable params: </span><span style=\"color: #00af00; text-decoration-color: #00af00\">0</span> (0.00 B)\n",
       "</pre>\n"
      ],
      "text/plain": [
       "\u001b[1m Non-trainable params: \u001b[0m\u001b[38;5;34m0\u001b[0m (0.00 B)\n"
      ]
     },
     "metadata": {},
     "output_type": "display_data"
    },
    {
     "name": "stdout",
     "output_type": "stream",
     "text": [
      "Epoch 1/100\n"
     ]
    },
    {
     "name": "stderr",
     "output_type": "stream",
     "text": [
      "I0000 00:00:1744449319.582074      62 cuda_dnn.cc:529] Loaded cuDNN version 90300\n"
     ]
    },
    {
     "name": "stdout",
     "output_type": "stream",
     "text": [
      "\u001b[1m100/100\u001b[0m \u001b[32m━━━━━━━━━━━━━━━━━━━━\u001b[0m\u001b[37m\u001b[0m \u001b[1m0s\u001b[0m 5ms/step - accuracy: 0.5223 - loss: 0.6931\n",
      "Epoch 1: val_loss improved from inf to 0.69183, saving model to best_model.keras\n",
      "\u001b[1m100/100\u001b[0m \u001b[32m━━━━━━━━━━━━━━━━━━━━\u001b[0m\u001b[37m\u001b[0m \u001b[1m6s\u001b[0m 10ms/step - accuracy: 0.5222 - loss: 0.6931 - val_accuracy: 0.5222 - val_loss: 0.6918\n",
      "Epoch 2/100\n",
      "\u001b[1m 98/100\u001b[0m \u001b[32m━━━━━━━━━━━━━━━━━━━\u001b[0m\u001b[37m━\u001b[0m \u001b[1m0s\u001b[0m 5ms/step - accuracy: 0.5261 - loss: 0.6922\n",
      "Epoch 2: val_loss improved from 0.69183 to 0.68917, saving model to best_model.keras\n",
      "\u001b[1m100/100\u001b[0m \u001b[32m━━━━━━━━━━━━━━━━━━━━\u001b[0m\u001b[37m\u001b[0m \u001b[1m1s\u001b[0m 6ms/step - accuracy: 0.5260 - loss: 0.6922 - val_accuracy: 0.5615 - val_loss: 0.6892\n",
      "Epoch 3/100\n",
      "\u001b[1m 92/100\u001b[0m \u001b[32m━━━━━━━━━━━━━━━━━━\u001b[0m\u001b[37m━━\u001b[0m \u001b[1m0s\u001b[0m 5ms/step - accuracy: 0.5290 - loss: 0.6898\n",
      "Epoch 3: val_loss improved from 0.68917 to 0.68146, saving model to best_model.keras\n",
      "\u001b[1m100/100\u001b[0m \u001b[32m━━━━━━━━━━━━━━━━━━━━\u001b[0m\u001b[37m\u001b[0m \u001b[1m1s\u001b[0m 6ms/step - accuracy: 0.5295 - loss: 0.6896 - val_accuracy: 0.5665 - val_loss: 0.6815\n",
      "Epoch 4/100\n",
      "\u001b[1m 92/100\u001b[0m \u001b[32m━━━━━━━━━━━━━━━━━━\u001b[0m\u001b[37m━━\u001b[0m \u001b[1m0s\u001b[0m 5ms/step - accuracy: 0.5610 - loss: 0.6777\n",
      "Epoch 4: val_loss improved from 0.68146 to 0.65686, saving model to best_model.keras\n",
      "\u001b[1m100/100\u001b[0m \u001b[32m━━━━━━━━━━━━━━━━━━━━\u001b[0m\u001b[37m\u001b[0m \u001b[1m1s\u001b[0m 6ms/step - accuracy: 0.5608 - loss: 0.6772 - val_accuracy: 0.5843 - val_loss: 0.6569\n",
      "Epoch 5/100\n",
      "\u001b[1m 91/100\u001b[0m \u001b[32m━━━━━━━━━━━━━━━━━━\u001b[0m\u001b[37m━━\u001b[0m \u001b[1m0s\u001b[0m 5ms/step - accuracy: 0.5749 - loss: 0.6556\n",
      "Epoch 5: val_loss improved from 0.65686 to 0.65118, saving model to best_model.keras\n",
      "\u001b[1m100/100\u001b[0m \u001b[32m━━━━━━━━━━━━━━━━━━━━\u001b[0m\u001b[37m\u001b[0m \u001b[1m1s\u001b[0m 6ms/step - accuracy: 0.5734 - loss: 0.6558 - val_accuracy: 0.5209 - val_loss: 0.6512\n",
      "Epoch 6/100\n",
      "\u001b[1m 93/100\u001b[0m \u001b[32m━━━━━━━━━━━━━━━━━━\u001b[0m\u001b[37m━━\u001b[0m \u001b[1m0s\u001b[0m 5ms/step - accuracy: 0.5580 - loss: 0.6489\n",
      "Epoch 6: val_loss improved from 0.65118 to 0.64587, saving model to best_model.keras\n",
      "\u001b[1m100/100\u001b[0m \u001b[32m━━━━━━━━━━━━━━━━━━━━\u001b[0m\u001b[37m\u001b[0m \u001b[1m1s\u001b[0m 6ms/step - accuracy: 0.5575 - loss: 0.6492 - val_accuracy: 0.6008 - val_loss: 0.6459\n",
      "Epoch 7/100\n",
      "\u001b[1m 92/100\u001b[0m \u001b[32m━━━━━━━━━━━━━━━━━━\u001b[0m\u001b[37m━━\u001b[0m \u001b[1m0s\u001b[0m 5ms/step - accuracy: 0.5661 - loss: 0.6524\n",
      "Epoch 7: val_loss improved from 0.64587 to 0.64016, saving model to best_model.keras\n",
      "\u001b[1m100/100\u001b[0m \u001b[32m━━━━━━━━━━━━━━━━━━━━\u001b[0m\u001b[37m\u001b[0m \u001b[1m1s\u001b[0m 6ms/step - accuracy: 0.5672 - loss: 0.6519 - val_accuracy: 0.5957 - val_loss: 0.6402\n",
      "Epoch 8/100\n",
      "\u001b[1m 93/100\u001b[0m \u001b[32m━━━━━━━━━━━━━━━━━━\u001b[0m\u001b[37m━━\u001b[0m \u001b[1m0s\u001b[0m 5ms/step - accuracy: 0.5793 - loss: 0.6432\n",
      "Epoch 8: val_loss improved from 0.64016 to 0.63862, saving model to best_model.keras\n",
      "\u001b[1m100/100\u001b[0m \u001b[32m━━━━━━━━━━━━━━━━━━━━\u001b[0m\u001b[37m\u001b[0m \u001b[1m1s\u001b[0m 6ms/step - accuracy: 0.5792 - loss: 0.6433 - val_accuracy: 0.5970 - val_loss: 0.6386\n",
      "Epoch 9/100\n",
      "\u001b[1m 92/100\u001b[0m \u001b[32m━━━━━━━━━━━━━━━━━━\u001b[0m\u001b[37m━━\u001b[0m \u001b[1m0s\u001b[0m 5ms/step - accuracy: 0.5839 - loss: 0.6437\n",
      "Epoch 9: val_loss improved from 0.63862 to 0.63849, saving model to best_model.keras\n",
      "\u001b[1m100/100\u001b[0m \u001b[32m━━━━━━━━━━━━━━━━━━━━\u001b[0m\u001b[37m\u001b[0m \u001b[1m1s\u001b[0m 6ms/step - accuracy: 0.5831 - loss: 0.6437 - val_accuracy: 0.6008 - val_loss: 0.6385\n",
      "Epoch 10/100\n",
      "\u001b[1m 91/100\u001b[0m \u001b[32m━━━━━━━━━━━━━━━━━━\u001b[0m\u001b[37m━━\u001b[0m \u001b[1m0s\u001b[0m 5ms/step - accuracy: 0.5729 - loss: 0.6377\n",
      "Epoch 10: val_loss improved from 0.63849 to 0.63574, saving model to best_model.keras\n",
      "\u001b[1m100/100\u001b[0m \u001b[32m━━━━━━━━━━━━━━━━━━━━\u001b[0m\u001b[37m\u001b[0m \u001b[1m1s\u001b[0m 6ms/step - accuracy: 0.5740 - loss: 0.6382 - val_accuracy: 0.5932 - val_loss: 0.6357\n",
      "Epoch 11/100\n",
      "\u001b[1m 92/100\u001b[0m \u001b[32m━━━━━━━━━━━━━━━━━━\u001b[0m\u001b[37m━━\u001b[0m \u001b[1m0s\u001b[0m 5ms/step - accuracy: 0.5962 - loss: 0.6341\n",
      "Epoch 11: val_loss improved from 0.63574 to 0.63573, saving model to best_model.keras\n",
      "\u001b[1m100/100\u001b[0m \u001b[32m━━━━━━━━━━━━━━━━━━━━\u001b[0m\u001b[37m\u001b[0m \u001b[1m1s\u001b[0m 6ms/step - accuracy: 0.5955 - loss: 0.6346 - val_accuracy: 0.5919 - val_loss: 0.6357\n",
      "Epoch 12/100\n",
      "\u001b[1m 93/100\u001b[0m \u001b[32m━━━━━━━━━━━━━━━━━━\u001b[0m\u001b[37m━━\u001b[0m \u001b[1m0s\u001b[0m 5ms/step - accuracy: 0.5969 - loss: 0.6421\n",
      "Epoch 12: val_loss improved from 0.63573 to 0.63475, saving model to best_model.keras\n",
      "\u001b[1m100/100\u001b[0m \u001b[32m━━━━━━━━━━━━━━━━━━━━\u001b[0m\u001b[37m\u001b[0m \u001b[1m1s\u001b[0m 6ms/step - accuracy: 0.5964 - loss: 0.6418 - val_accuracy: 0.5944 - val_loss: 0.6348\n",
      "Epoch 13/100\n",
      "\u001b[1m 93/100\u001b[0m \u001b[32m━━━━━━━━━━━━━━━━━━\u001b[0m\u001b[37m━━\u001b[0m \u001b[1m0s\u001b[0m 5ms/step - accuracy: 0.5856 - loss: 0.6429\n",
      "Epoch 13: val_loss improved from 0.63475 to 0.63312, saving model to best_model.keras\n",
      "\u001b[1m100/100\u001b[0m \u001b[32m━━━━━━━━━━━━━━━━━━━━\u001b[0m\u001b[37m\u001b[0m \u001b[1m1s\u001b[0m 6ms/step - accuracy: 0.5853 - loss: 0.6427 - val_accuracy: 0.5944 - val_loss: 0.6331\n",
      "Epoch 14/100\n",
      "\u001b[1m 93/100\u001b[0m \u001b[32m━━━━━━━━━━━━━━━━━━\u001b[0m\u001b[37m━━\u001b[0m \u001b[1m0s\u001b[0m 5ms/step - accuracy: 0.5964 - loss: 0.6319\n",
      "Epoch 14: val_loss did not improve from 0.63312\n",
      "\u001b[1m100/100\u001b[0m \u001b[32m━━━━━━━━━━━━━━━━━━━━\u001b[0m\u001b[37m\u001b[0m \u001b[1m1s\u001b[0m 6ms/step - accuracy: 0.5961 - loss: 0.6324 - val_accuracy: 0.6046 - val_loss: 0.6332\n",
      "Epoch 15/100\n",
      "\u001b[1m 91/100\u001b[0m \u001b[32m━━━━━━━━━━━━━━━━━━\u001b[0m\u001b[37m━━\u001b[0m \u001b[1m0s\u001b[0m 5ms/step - accuracy: 0.5916 - loss: 0.6316\n",
      "Epoch 15: val_loss did not improve from 0.63312\n",
      "\u001b[1m100/100\u001b[0m \u001b[32m━━━━━━━━━━━━━━━━━━━━\u001b[0m\u001b[37m\u001b[0m \u001b[1m1s\u001b[0m 6ms/step - accuracy: 0.5914 - loss: 0.6320 - val_accuracy: 0.5957 - val_loss: 0.6333\n",
      "Epoch 16/100\n",
      "\u001b[1m 95/100\u001b[0m \u001b[32m━━━━━━━━━━━━━━━━━━━\u001b[0m\u001b[37m━\u001b[0m \u001b[1m0s\u001b[0m 5ms/step - accuracy: 0.5947 - loss: 0.6381\n",
      "Epoch 16: val_loss did not improve from 0.63312\n",
      "\u001b[1m100/100\u001b[0m \u001b[32m━━━━━━━━━━━━━━━━━━━━\u001b[0m\u001b[37m\u001b[0m \u001b[1m1s\u001b[0m 6ms/step - accuracy: 0.5950 - loss: 0.6380 - val_accuracy: 0.5957 - val_loss: 0.6333\n",
      "Epoch 17/100\n",
      "\u001b[1m 91/100\u001b[0m \u001b[32m━━━━━━━━━━━━━━━━━━\u001b[0m\u001b[37m━━\u001b[0m \u001b[1m0s\u001b[0m 5ms/step - accuracy: 0.5906 - loss: 0.6398\n",
      "Epoch 17: val_loss improved from 0.63312 to 0.63309, saving model to best_model.keras\n",
      "\u001b[1m100/100\u001b[0m \u001b[32m━━━━━━━━━━━━━━━━━━━━\u001b[0m\u001b[37m\u001b[0m \u001b[1m1s\u001b[0m 6ms/step - accuracy: 0.5902 - loss: 0.6395 - val_accuracy: 0.6084 - val_loss: 0.6331\n",
      "Epoch 18/100\n",
      "\u001b[1m 98/100\u001b[0m \u001b[32m━━━━━━━━━━━━━━━━━━━\u001b[0m\u001b[37m━\u001b[0m \u001b[1m0s\u001b[0m 5ms/step - accuracy: 0.5871 - loss: 0.6357\n",
      "Epoch 18: val_loss improved from 0.63309 to 0.63204, saving model to best_model.keras\n",
      "\u001b[1m100/100\u001b[0m \u001b[32m━━━━━━━━━━━━━━━━━━━━\u001b[0m\u001b[37m\u001b[0m \u001b[1m1s\u001b[0m 6ms/step - accuracy: 0.5871 - loss: 0.6357 - val_accuracy: 0.6058 - val_loss: 0.6320\n",
      "Epoch 19/100\n",
      "\u001b[1m 94/100\u001b[0m \u001b[32m━━━━━━━━━━━━━━━━━━\u001b[0m\u001b[37m━━\u001b[0m \u001b[1m0s\u001b[0m 5ms/step - accuracy: 0.5734 - loss: 0.6344\n",
      "Epoch 19: val_loss did not improve from 0.63204\n",
      "\u001b[1m100/100\u001b[0m \u001b[32m━━━━━━━━━━━━━━━━━━━━\u001b[0m\u001b[37m\u001b[0m \u001b[1m1s\u001b[0m 6ms/step - accuracy: 0.5741 - loss: 0.6343 - val_accuracy: 0.6071 - val_loss: 0.6329\n",
      "Epoch 20/100\n",
      "\u001b[1m 93/100\u001b[0m \u001b[32m━━━━━━━━━━━━━━━━━━\u001b[0m\u001b[37m━━\u001b[0m \u001b[1m0s\u001b[0m 5ms/step - accuracy: 0.6081 - loss: 0.6232\n",
      "Epoch 20: val_loss did not improve from 0.63204\n",
      "\u001b[1m100/100\u001b[0m \u001b[32m━━━━━━━━━━━━━━━━━━━━\u001b[0m\u001b[37m\u001b[0m \u001b[1m1s\u001b[0m 6ms/step - accuracy: 0.6077 - loss: 0.6238 - val_accuracy: 0.5970 - val_loss: 0.6346\n",
      "Epoch 21/100\n",
      "\u001b[1m 92/100\u001b[0m \u001b[32m━━━━━━━━━━━━━━━━━━\u001b[0m\u001b[37m━━\u001b[0m \u001b[1m0s\u001b[0m 5ms/step - accuracy: 0.6073 - loss: 0.6288\n",
      "Epoch 21: val_loss improved from 0.63204 to 0.63161, saving model to best_model.keras\n",
      "\u001b[1m100/100\u001b[0m \u001b[32m━━━━━━━━━━━━━━━━━━━━\u001b[0m\u001b[37m\u001b[0m \u001b[1m1s\u001b[0m 6ms/step - accuracy: 0.6066 - loss: 0.6289 - val_accuracy: 0.5957 - val_loss: 0.6316\n",
      "Epoch 22/100\n",
      "\u001b[1m 95/100\u001b[0m \u001b[32m━━━━━━━━━━━━━━━━━━━\u001b[0m\u001b[37m━\u001b[0m \u001b[1m0s\u001b[0m 5ms/step - accuracy: 0.6093 - loss: 0.6245\n",
      "Epoch 22: val_loss improved from 0.63161 to 0.63135, saving model to best_model.keras\n",
      "\u001b[1m100/100\u001b[0m \u001b[32m━━━━━━━━━━━━━━━━━━━━\u001b[0m\u001b[37m\u001b[0m \u001b[1m1s\u001b[0m 6ms/step - accuracy: 0.6085 - loss: 0.6249 - val_accuracy: 0.5970 - val_loss: 0.6313\n",
      "Epoch 23/100\n",
      "\u001b[1m 93/100\u001b[0m \u001b[32m━━━━━━━━━━━━━━━━━━\u001b[0m\u001b[37m━━\u001b[0m \u001b[1m0s\u001b[0m 5ms/step - accuracy: 0.6045 - loss: 0.6318\n",
      "Epoch 23: val_loss did not improve from 0.63135\n",
      "\u001b[1m100/100\u001b[0m \u001b[32m━━━━━━━━━━━━━━━━━━━━\u001b[0m\u001b[37m\u001b[0m \u001b[1m1s\u001b[0m 6ms/step - accuracy: 0.6038 - loss: 0.6317 - val_accuracy: 0.6046 - val_loss: 0.6315\n",
      "Epoch 24/100\n",
      "\u001b[1m 94/100\u001b[0m \u001b[32m━━━━━━━━━━━━━━━━━━\u001b[0m\u001b[37m━━\u001b[0m \u001b[1m0s\u001b[0m 5ms/step - accuracy: 0.6010 - loss: 0.6320\n",
      "Epoch 24: val_loss improved from 0.63135 to 0.63134, saving model to best_model.keras\n",
      "\u001b[1m100/100\u001b[0m \u001b[32m━━━━━━━━━━━━━━━━━━━━\u001b[0m\u001b[37m\u001b[0m \u001b[1m1s\u001b[0m 6ms/step - accuracy: 0.6008 - loss: 0.6319 - val_accuracy: 0.6020 - val_loss: 0.6313\n",
      "Epoch 25/100\n",
      "\u001b[1m 91/100\u001b[0m \u001b[32m━━━━━━━━━━━━━━━━━━\u001b[0m\u001b[37m━━\u001b[0m \u001b[1m0s\u001b[0m 5ms/step - accuracy: 0.5988 - loss: 0.6304\n",
      "Epoch 25: val_loss improved from 0.63134 to 0.63084, saving model to best_model.keras\n",
      "\u001b[1m100/100\u001b[0m \u001b[32m━━━━━━━━━━━━━━━━━━━━\u001b[0m\u001b[37m\u001b[0m \u001b[1m1s\u001b[0m 6ms/step - accuracy: 0.5992 - loss: 0.6305 - val_accuracy: 0.5970 - val_loss: 0.6308\n",
      "Epoch 26/100\n",
      "\u001b[1m 91/100\u001b[0m \u001b[32m━━━━━━━━━━━━━━━━━━\u001b[0m\u001b[37m━━\u001b[0m \u001b[1m0s\u001b[0m 5ms/step - accuracy: 0.6085 - loss: 0.6290\n",
      "Epoch 26: val_loss did not improve from 0.63084\n",
      "\u001b[1m100/100\u001b[0m \u001b[32m━━━━━━━━━━━━━━━━━━━━\u001b[0m\u001b[37m\u001b[0m \u001b[1m1s\u001b[0m 6ms/step - accuracy: 0.6082 - loss: 0.6290 - val_accuracy: 0.6033 - val_loss: 0.6313\n",
      "Epoch 27/100\n",
      "\u001b[1m 91/100\u001b[0m \u001b[32m━━━━━━━━━━━━━━━━━━\u001b[0m\u001b[37m━━\u001b[0m \u001b[1m0s\u001b[0m 5ms/step - accuracy: 0.5936 - loss: 0.6251\n",
      "Epoch 27: val_loss did not improve from 0.63084\n",
      "\u001b[1m100/100\u001b[0m \u001b[32m━━━━━━━━━━━━━━━━━━━━\u001b[0m\u001b[37m\u001b[0m \u001b[1m1s\u001b[0m 6ms/step - accuracy: 0.5938 - loss: 0.6253 - val_accuracy: 0.6046 - val_loss: 0.6322\n",
      "Epoch 28/100\n",
      "\u001b[1m 91/100\u001b[0m \u001b[32m━━━━━━━━━━━━━━━━━━\u001b[0m\u001b[37m━━\u001b[0m \u001b[1m0s\u001b[0m 5ms/step - accuracy: 0.5830 - loss: 0.6316\n",
      "Epoch 28: val_loss improved from 0.63084 to 0.62949, saving model to best_model.keras\n",
      "\u001b[1m100/100\u001b[0m \u001b[32m━━━━━━━━━━━━━━━━━━━━\u001b[0m\u001b[37m\u001b[0m \u001b[1m1s\u001b[0m 6ms/step - accuracy: 0.5849 - loss: 0.6312 - val_accuracy: 0.6058 - val_loss: 0.6295\n",
      "Epoch 29/100\n",
      "\u001b[1m 91/100\u001b[0m \u001b[32m━━━━━━━━━━━━━━━━━━\u001b[0m\u001b[37m━━\u001b[0m \u001b[1m0s\u001b[0m 5ms/step - accuracy: 0.5871 - loss: 0.6292\n",
      "Epoch 29: val_loss did not improve from 0.62949\n",
      "\u001b[1m100/100\u001b[0m \u001b[32m━━━━━━━━━━━━━━━━━━━━\u001b[0m\u001b[37m\u001b[0m \u001b[1m1s\u001b[0m 6ms/step - accuracy: 0.5882 - loss: 0.6291 - val_accuracy: 0.6071 - val_loss: 0.6307\n",
      "Epoch 30/100\n",
      "\u001b[1m 92/100\u001b[0m \u001b[32m━━━━━━━━━━━━━━━━━━\u001b[0m\u001b[37m━━\u001b[0m \u001b[1m0s\u001b[0m 5ms/step - accuracy: 0.5914 - loss: 0.6360\n",
      "Epoch 30: val_loss did not improve from 0.62949\n",
      "\u001b[1m100/100\u001b[0m \u001b[32m━━━━━━━━━━━━━━━━━━━━\u001b[0m\u001b[37m\u001b[0m \u001b[1m1s\u001b[0m 6ms/step - accuracy: 0.5923 - loss: 0.6354 - val_accuracy: 0.6020 - val_loss: 0.6315\n",
      "Epoch 31/100\n",
      "\u001b[1m 91/100\u001b[0m \u001b[32m━━━━━━━━━━━━━━━━━━\u001b[0m\u001b[37m━━\u001b[0m \u001b[1m0s\u001b[0m 5ms/step - accuracy: 0.6069 - loss: 0.6301\n",
      "Epoch 31: val_loss did not improve from 0.62949\n",
      "\u001b[1m100/100\u001b[0m \u001b[32m━━━━━━━━━━━━━━━━━━━━\u001b[0m\u001b[37m\u001b[0m \u001b[1m1s\u001b[0m 6ms/step - accuracy: 0.6066 - loss: 0.6299 - val_accuracy: 0.6008 - val_loss: 0.6295\n",
      "Epoch 32/100\n",
      "\u001b[1m 91/100\u001b[0m \u001b[32m━━━━━━━━━━━━━━━━━━\u001b[0m\u001b[37m━━\u001b[0m \u001b[1m0s\u001b[0m 5ms/step - accuracy: 0.6036 - loss: 0.6255\n",
      "Epoch 32: val_loss did not improve from 0.62949\n",
      "\u001b[1m100/100\u001b[0m \u001b[32m━━━━━━━━━━━━━━━━━━━━\u001b[0m\u001b[37m\u001b[0m \u001b[1m1s\u001b[0m 6ms/step - accuracy: 0.6024 - loss: 0.6260 - val_accuracy: 0.6008 - val_loss: 0.6313\n",
      "Epoch 33/100\n",
      "\u001b[1m 91/100\u001b[0m \u001b[32m━━━━━━━━━━━━━━━━━━\u001b[0m\u001b[37m━━\u001b[0m \u001b[1m0s\u001b[0m 5ms/step - accuracy: 0.6289 - loss: 0.6230\n",
      "Epoch 33: val_loss did not improve from 0.62949\n",
      "\u001b[1m100/100\u001b[0m \u001b[32m━━━━━━━━━━━━━━━━━━━━\u001b[0m\u001b[37m\u001b[0m \u001b[1m1s\u001b[0m 6ms/step - accuracy: 0.6271 - loss: 0.6234 - val_accuracy: 0.6020 - val_loss: 0.6324\n",
      "Epoch 34/100\n",
      "\u001b[1m 93/100\u001b[0m \u001b[32m━━━━━━━━━━━━━━━━━━\u001b[0m\u001b[37m━━\u001b[0m \u001b[1m0s\u001b[0m 6ms/step - accuracy: 0.6061 - loss: 0.6253\n",
      "Epoch 34: val_loss did not improve from 0.62949\n",
      "\u001b[1m100/100\u001b[0m \u001b[32m━━━━━━━━━━━━━━━━━━━━\u001b[0m\u001b[37m\u001b[0m \u001b[1m1s\u001b[0m 6ms/step - accuracy: 0.6065 - loss: 0.6252 - val_accuracy: 0.6058 - val_loss: 0.6308\n",
      "Epoch 35/100\n",
      "\u001b[1m 91/100\u001b[0m \u001b[32m━━━━━━━━━━━━━━━━━━\u001b[0m\u001b[37m━━\u001b[0m \u001b[1m0s\u001b[0m 5ms/step - accuracy: 0.5893 - loss: 0.6286\n",
      "Epoch 35: val_loss did not improve from 0.62949\n",
      "\u001b[1m100/100\u001b[0m \u001b[32m━━━━━━━━━━━━━━━━━━━━\u001b[0m\u001b[37m\u001b[0m \u001b[1m1s\u001b[0m 6ms/step - accuracy: 0.5905 - loss: 0.6287 - val_accuracy: 0.6008 - val_loss: 0.6339\n",
      "Epoch 36/100\n",
      "\u001b[1m 92/100\u001b[0m \u001b[32m━━━━━━━━━━━━━━━━━━\u001b[0m\u001b[37m━━\u001b[0m \u001b[1m0s\u001b[0m 5ms/step - accuracy: 0.5933 - loss: 0.6283\n",
      "Epoch 36: val_loss did not improve from 0.62949\n",
      "\u001b[1m100/100\u001b[0m \u001b[32m━━━━━━━━━━━━━━━━━━━━\u001b[0m\u001b[37m\u001b[0m \u001b[1m1s\u001b[0m 6ms/step - accuracy: 0.5942 - loss: 0.6281 - val_accuracy: 0.5957 - val_loss: 0.6305\n",
      "Epoch 37/100\n",
      "\u001b[1m 91/100\u001b[0m \u001b[32m━━━━━━━━━━━━━━━━━━\u001b[0m\u001b[37m━━\u001b[0m \u001b[1m0s\u001b[0m 5ms/step - accuracy: 0.6014 - loss: 0.6258\n",
      "Epoch 37: val_loss did not improve from 0.62949\n",
      "\u001b[1m100/100\u001b[0m \u001b[32m━━━━━━━━━━━━━━━━━━━━\u001b[0m\u001b[37m\u001b[0m \u001b[1m1s\u001b[0m 6ms/step - accuracy: 0.6019 - loss: 0.6258 - val_accuracy: 0.6033 - val_loss: 0.6303\n",
      "Epoch 38/100\n",
      "\u001b[1m 91/100\u001b[0m \u001b[32m━━━━━━━━━━━━━━━━━━\u001b[0m\u001b[37m━━\u001b[0m \u001b[1m0s\u001b[0m 5ms/step - accuracy: 0.6034 - loss: 0.6235\n",
      "Epoch 38: val_loss did not improve from 0.62949\n",
      "\u001b[1m100/100\u001b[0m \u001b[32m━━━━━━━━━━━━━━━━━━━━\u001b[0m\u001b[37m\u001b[0m \u001b[1m1s\u001b[0m 6ms/step - accuracy: 0.6037 - loss: 0.6236 - val_accuracy: 0.6033 - val_loss: 0.6310\n",
      "Epoch 38: early stopping\n",
      "Restoring model weights from the end of the best epoch: 28.\n"
     ]
    }
   ],
   "source": [
    "from tensorflow.keras.models import Sequential\n",
    "from tensorflow.keras.layers import LSTM, Dense, Dropout, Input\n",
    "from tensorflow.keras.callbacks import EarlyStopping, ModelCheckpoint\n",
    "\n",
    "# MODEL\n",
    "model = Sequential([\n",
    "    Input(shape=(SEQ_LENGTH, X_train_seq.shape[2])),  # Gunakan Input layer resmi\n",
    "    LSTM(64, return_sequences=True),\n",
    "    Dropout(0.3),\n",
    "    LSTM(32),\n",
    "    Dropout(0.3),\n",
    "    Dense(1, activation='sigmoid')  # Binary classification\n",
    "])\n",
    "\n",
    "# KOMPILE MODEL\n",
    "model.compile(\n",
    "    optimizer='adam',\n",
    "    loss='binary_crossentropy',\n",
    "    metrics=['accuracy']\n",
    ")\n",
    "# Menampilkan arsitektur model\n",
    "print(\"\\nModel Architecture Summary:\")\n",
    "model.summary()\n",
    "# CALLBACKS\n",
    "early_stop = EarlyStopping(\n",
    "    monitor='val_loss',\n",
    "    patience=10,\n",
    "    restore_best_weights=True,\n",
    "    verbose=1\n",
    ")\n",
    "\n",
    "model_checkpoint = ModelCheckpoint(\n",
    "    filepath='best_model.keras',   # gunakan ekstensi .keras sesuai versi Keras baru\n",
    "    save_best_only=True,\n",
    "    monitor='val_loss',\n",
    "    mode='min',\n",
    "    verbose=1\n",
    ")\n",
    "\n",
    "# TRAINING\n",
    "history = model.fit(\n",
    "    X_train_seq, y_train_seq,\n",
    "    epochs=100,\n",
    "    batch_size=32,\n",
    "    validation_data=(X_test_seq, y_test_seq),\n",
    "    callbacks=[early_stop, model_checkpoint],\n",
    "    verbose=1\n",
    ")\n"
   ]
  },
  {
   "cell_type": "code",
   "execution_count": 16,
   "id": "fd9e1419",
   "metadata": {
    "execution": {
     "iopub.execute_input": "2025-04-12T09:15:45.215063Z",
     "iopub.status.busy": "2025-04-12T09:15:45.214786Z",
     "iopub.status.idle": "2025-04-12T09:15:45.664880Z",
     "shell.execute_reply": "2025-04-12T09:15:45.664150Z"
    },
    "papermill": {
     "duration": 0.477705,
     "end_time": "2025-04-12T09:15:45.666793",
     "exception": false,
     "start_time": "2025-04-12T09:15:45.189088",
     "status": "completed"
    },
    "tags": []
   },
   "outputs": [
    {
     "data": {
      "image/png": "[encoded data removed]",
      "text/plain": [
       "<Figure size 1200x500 with 2 Axes>"
      ]
     },
     "metadata": {},
     "output_type": "display_data"
    }
   ],
   "source": [
    "import matplotlib.pyplot as plt\n",
    "\n",
    "plt.figure(figsize=(12, 5))\n",
    "plt.subplot(1, 2, 1)\n",
    "plt.plot(history.history['loss'], label='Train Loss')\n",
    "plt.plot(history.history['val_loss'], label='Val Loss')\n",
    "plt.title('Loss')\n",
    "plt.legend()\n",
    "\n",
    "plt.subplot(1, 2, 2)\n",
    "plt.plot(history.history['accuracy'], label='Train Accuracy')\n",
    "plt.plot(history.history['val_accuracy'], label='Val Accuracy')\n",
    "plt.title('Accuracy')\n",
    "plt.legend()\n",
    "\n",
    "plt.tight_layout()\n",
    "plt.show()\n"
   ]
  },
  {
   "cell_type": "markdown",
   "id": "fa6a3a8e",
   "metadata": {
    "papermill": {
     "duration": 0.026243,
     "end_time": "2025-04-12T09:15:45.720699",
     "exception": false,
     "start_time": "2025-04-12T09:15:45.694456",
     "status": "completed"
    },
    "tags": []
   },
   "source": [
    "# EVALUASI MODEL"
   ]
  },
  {
   "cell_type": "code",
   "execution_count": 17,
   "id": "d11dc4c5",
   "metadata": {
    "execution": {
     "iopub.execute_input": "2025-04-12T09:15:45.774001Z",
     "iopub.status.busy": "2025-04-12T09:15:45.773785Z",
     "iopub.status.idle": "2025-04-12T09:15:46.757541Z",
     "shell.execute_reply": "2025-04-12T09:15:46.756578Z"
    },
    "papermill": {
     "duration": 1.011833,
     "end_time": "2025-04-12T09:15:46.758727",
     "exception": false,
     "start_time": "2025-04-12T09:15:45.746894",
     "status": "completed"
    },
    "tags": []
   },
   "outputs": [
    {
     "name": "stdout",
     "output_type": "stream",
     "text": [
      "\u001b[1m25/25\u001b[0m \u001b[32m━━━━━━━━━━━━━━━━━━━━\u001b[0m\u001b[37m\u001b[0m \u001b[1m0s\u001b[0m 11ms/step\n",
      "Classification Report:\n",
      "                precision    recall  f1-score   support\n",
      "\n",
      "        Normal       0.86      0.25      0.38       391\n",
      "Reconnaissance       0.56      0.96      0.71       398\n",
      "\n",
      "      accuracy                           0.61       789\n",
      "     macro avg       0.71      0.60      0.55       789\n",
      "  weighted avg       0.71      0.61      0.55       789\n",
      "\n"
     ]
    }
   ],
   "source": [
    "from sklearn.metrics import classification_report, confusion_matrix\n",
    "import seaborn as sns\n",
    "import matplotlib.pyplot as plt\n",
    "\n",
    "# Prediksi\n",
    "y_pred = model.predict(X_test_seq)\n",
    "y_pred_classes = (y_pred > 0.5).astype(int)\n",
    "\n",
    "# Laporan klasifikasi\n",
    "print(\"Classification Report:\")\n",
    "print(classification_report(y_test_seq, y_pred_classes, target_names=le.classes_))\n",
    "\n"
   ]
  },
  {
   "cell_type": "markdown",
   "id": "96b40e9d",
   "metadata": {
    "papermill": {
     "duration": 0.026193,
     "end_time": "2025-04-12T09:15:46.860866",
     "exception": false,
     "start_time": "2025-04-12T09:15:46.834673",
     "status": "completed"
    },
    "tags": []
   },
   "source": [
    "# VISUALISASI"
   ]
  },
  {
   "cell_type": "code",
   "execution_count": 18,
   "id": "1c84a729",
   "metadata": {
    "execution": {
     "iopub.execute_input": "2025-04-12T09:15:46.914852Z",
     "iopub.status.busy": "2025-04-12T09:15:46.914343Z",
     "iopub.status.idle": "2025-04-12T09:15:47.359496Z",
     "shell.execute_reply": "2025-04-12T09:15:47.358754Z"
    },
    "papermill": {
     "duration": 0.473296,
     "end_time": "2025-04-12T09:15:47.360742",
     "exception": false,
     "start_time": "2025-04-12T09:15:46.887446",
     "status": "completed"
    },
    "tags": []
   },
   "outputs": [
    {
     "data": {
      "image/png": "[encoded data removed]",
      "text/plain": [
       "<Figure size 600x500 with 2 Axes>"
      ]
     },
     "metadata": {},
     "output_type": "display_data"
    }
   ],
   "source": [
    "# Confusion matrix\n",
    "cm = confusion_matrix(y_test_seq, y_pred_classes)\n",
    "\n",
    "# Plot matrix dengan warna biru\n",
    "plt.figure(figsize=(6, 5))\n",
    "sns.heatmap(cm, annot=True, fmt='d', cmap='Blues',\n",
    "            xticklabels=le.classes_, yticklabels=le.classes_)\n",
    "\n",
    "plt.xlabel(\"Predicted\")\n",
    "plt.ylabel(\"True\")\n",
    "plt.title(\"Confusion Matrix\")\n",
    "plt.tight_layout()\n",
    "plt.show()\n"
   ]
  },
  {
   "cell_type": "code",
   "execution_count": 19,
   "id": "5f5cdbde",
   "metadata": {
    "execution": {
     "iopub.execute_input": "2025-04-12T09:15:47.416721Z",
     "iopub.status.busy": "2025-04-12T09:15:47.416475Z",
     "iopub.status.idle": "2025-04-12T09:15:47.700732Z",
     "shell.execute_reply": "2025-04-12T09:15:47.700068Z"
    },
    "papermill": {
     "duration": 0.313551,
     "end_time": "2025-04-12T09:15:47.702256",
     "exception": false,
     "start_time": "2025-04-12T09:15:47.388705",
     "status": "completed"
    },
    "tags": []
   },
   "outputs": [
    {
     "name": "stdout",
     "output_type": "stream",
     "text": [
      "\u001b[1m25/25\u001b[0m \u001b[32m━━━━━━━━━━━━━━━━━━━━\u001b[0m\u001b[37m\u001b[0m \u001b[1m0s\u001b[0m 2ms/step \n"
     ]
    },
    {
     "data": {
      "image/png": "[encoded data removed]",
      "text/plain": [
       "<Figure size 800x600 with 1 Axes>"
      ]
     },
     "metadata": {},
     "output_type": "display_data"
    }
   ],
   "source": [
    "from sklearn.metrics import roc_curve, auc\n",
    "import matplotlib.pyplot as plt\n",
    "\n",
    "# Prediksi probabilitas (bukan kelas!)\n",
    "y_pred_proba = model.predict(X_test_seq).ravel()\n",
    "\n",
    "# Hitung fpr, tpr\n",
    "fpr, tpr, thresholds = roc_curve(y_test_seq, y_pred_proba)\n",
    "roc_auc = auc(fpr, tpr)\n",
    "\n",
    "# Plot ROC Curve\n",
    "plt.figure(figsize=(8, 6))\n",
    "plt.plot(fpr, tpr, color='blue', lw=2, label=f'ROC Curve (AUC = {roc_auc:.2f})')\n",
    "plt.plot([0, 1], [0, 1], color='gray', linestyle='--')  # garis random\n",
    "plt.xlim([0.0, 1.0])\n",
    "plt.ylim([0.0, 1.05])\n",
    "plt.xlabel('False Positive Rate')\n",
    "plt.ylabel('True Positive Rate')\n",
    "plt.title('Receiver Operating Characteristic (ROC)')\n",
    "plt.legend(loc=\"lower right\")\n",
    "plt.grid(True)\n",
    "plt.show()\n"
   ]
  },
  {
   "cell_type": "markdown",
   "id": "ca5b65b5",
   "metadata": {
    "papermill": {
     "duration": 0.027749,
     "end_time": "2025-04-12T09:15:47.759549",
     "exception": false,
     "start_time": "2025-04-12T09:15:47.731800",
     "status": "completed"
    },
    "tags": []
   },
   "source": [
    "# UJI COBA MODEL"
   ]
  },
  {
   "cell_type": "code",
   "execution_count": 20,
   "id": "a52f9944",
   "metadata": {
    "execution": {
     "iopub.execute_input": "2025-04-12T09:15:47.815886Z",
     "iopub.status.busy": "2025-04-12T09:15:47.815427Z",
     "iopub.status.idle": "2025-04-12T09:15:47.887611Z",
     "shell.execute_reply": "2025-04-12T09:15:47.886628Z"
    },
    "papermill": {
     "duration": 0.101499,
     "end_time": "2025-04-12T09:15:47.888900",
     "exception": false,
     "start_time": "2025-04-12T09:15:47.787401",
     "status": "completed"
    },
    "tags": []
   },
   "outputs": [
    {
     "name": "stdout",
     "output_type": "stream",
     "text": [
      "\u001b[1m1/1\u001b[0m \u001b[32m━━━━━━━━━━━━━━━━━━━━\u001b[0m\u001b[37m\u001b[0m \u001b[1m0s\u001b[0m 18ms/step\n",
      "Sample   True Label      Predicted       Confidence  \n",
      "--------------------------------------------------\n",
      "1        Normal          Reconnaissance  0.5323\n",
      "2        Reconnaissance  Reconnaissance  0.5304\n",
      "3        Reconnaissance  Normal          0.4691\n",
      "4        Reconnaissance  Reconnaissance  0.5156\n",
      "5        Normal          Reconnaissance  0.5701\n",
      "6        Normal          Reconnaissance  0.5587\n",
      "7        Reconnaissance  Reconnaissance  0.5902\n",
      "8        Normal          Normal          0.0022\n",
      "9        Reconnaissance  Reconnaissance  0.5292\n",
      "10       Normal          Reconnaissance  0.5306\n"
     ]
    }
   ],
   "source": [
    "import numpy as np\n",
    "\n",
    "# Ambil 10 sampel acak dari data uji\n",
    "num_samples = 10\n",
    "indices = np.random.choice(len(X_test_seq), size=num_samples, replace=False)\n",
    "X_sample = X_test_seq[indices]\n",
    "y_true_sample = y_test_seq[indices]\n",
    "\n",
    "# Prediksi probabilitas\n",
    "y_pred_prob = model.predict(X_sample)\n",
    "y_pred_class = (y_pred_prob > 0.5).astype(int)\n",
    "\n",
    "# Tampilkan hasil\n",
    "print(f\"{'Sample':<8} {'True Label':<15} {'Predicted':<15} {'Confidence':<12}\")\n",
    "print(\"-\" * 50)\n",
    "for i in range(num_samples):\n",
    "    true_label = le.inverse_transform([y_true_sample[i]])[0]\n",
    "    predicted_label = le.inverse_transform([y_pred_class[i][0]])[0]\n",
    "    confidence = y_pred_prob[i][0]\n",
    "    print(f\"{i+1:<8} {true_label:<15} {predicted_label:<15} {confidence:.4f}\")\n"
   ]
  },
  {
   "cell_type": "markdown",
   "id": "63964b8c",
   "metadata": {
    "papermill": {
     "duration": 0.027628,
     "end_time": "2025-04-12T09:15:47.946184",
     "exception": false,
     "start_time": "2025-04-12T09:15:47.918556",
     "status": "completed"
    },
    "tags": []
   },
   "source": [
    "# SAVE MODEL"
   ]
  },
  {
   "cell_type": "code",
   "execution_count": 21,
   "id": "53d4b729",
   "metadata": {
    "execution": {
     "iopub.execute_input": "2025-04-12T09:15:48.002547Z",
     "iopub.status.busy": "2025-04-12T09:15:48.002255Z",
     "iopub.status.idle": "2025-04-12T09:15:48.032866Z",
     "shell.execute_reply": "2025-04-12T09:15:48.032338Z"
    },
    "papermill": {
     "duration": 0.060156,
     "end_time": "2025-04-12T09:15:48.033885",
     "exception": false,
     "start_time": "2025-04-12T09:15:47.973729",
     "status": "completed"
    },
    "tags": []
   },
   "outputs": [],
   "source": [
    "# Simpan seluruh model ke format Keras (.keras)\n",
    "model.save('final_model.keras')\n"
   ]
  },
  {
   "cell_type": "code",
   "execution_count": 22,
   "id": "49871cdf",
   "metadata": {
    "execution": {
     "iopub.execute_input": "2025-04-12T09:15:48.091817Z",
     "iopub.status.busy": "2025-04-12T09:15:48.091204Z",
     "iopub.status.idle": "2025-04-12T09:15:48.118509Z",
     "shell.execute_reply": "2025-04-12T09:15:48.117746Z"
    },
    "papermill": {
     "duration": 0.057664,
     "end_time": "2025-04-12T09:15:48.119800",
     "exception": false,
     "start_time": "2025-04-12T09:15:48.062136",
     "status": "completed"
    },
    "tags": []
   },
   "outputs": [],
   "source": [
    "# Simpan model lengkap (jika versi Keras kamu masih izinkan)\n",
    "model.save('model_full.h5')\n"
   ]
  }
 ],
 "metadata": {
  "kaggle": {
   "accelerator": "nvidiaTeslaT4",
   "dataSources": [
    {
     "datasetId": 2951364,
     "sourceId": 5082681,
     "sourceType": "datasetVersion"
    }
   ],
   "dockerImageVersionId": 31011,
   "isGpuEnabled": true,
   "isInternetEnabled": true,
   "language": "python",
   "sourceType": "notebook"
  },
  "kernelspec": {
   "display_name": "Python 3",
   "language": "python",
   "name": "python3"
  },
  "language_info": {
   "codemirror_mode": {
    "name": "ipython",
    "version": 3
   },
   "file_extension": ".py",
   "mimetype": "text/x-python",
   "name": "python",
   "nbconvert_exporter": "python",
   "pygments_lexer": "ipython3",
   "version": "3.11.11"
  },
  "papermill": {
   "default_parameters": {},
   "duration": 64.477804,
   "end_time": "2025-04-12T09:15:51.833818",
   "environment_variables": {},
   "exception": null,
   "input_path": "__notebook__.ipynb",
   "output_path": "__notebook__.ipynb",
   "parameters": {},
   "start_time": "2025-04-12T09:14:47.356014",
   "version": "2.6.0"
  }
 },
 "nbformat": 4,
 "nbformat_minor": 5
}
